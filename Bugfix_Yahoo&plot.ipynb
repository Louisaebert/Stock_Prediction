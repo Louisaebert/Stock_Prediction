{
 "cells": [
  {
   "cell_type": "code",
   "execution_count": 66,
   "metadata": {},
   "outputs": [],
   "source": [
    "import pandas as pd \n",
    "import numpy as np\n",
    "import datetime \n",
    "from datetime import timedelta, datetime\n",
    "import matplotlib.pyplot as plt\n"
   ]
  },
  {
   "cell_type": "code",
   "execution_count": 32,
   "metadata": {
    "scrolled": true
   },
   "outputs": [
    {
     "name": "stdout",
     "output_type": "stream",
     "text": [
      "Collecting yahoo_fin\n",
      "  Downloading yahoo_fin-0.8.9.1-py3-none-any.whl (10 kB)\n",
      "Requirement already satisfied: requests in /opt/anaconda3/lib/python3.8/site-packages (from yahoo_fin) (2.25.1)\n",
      "Collecting requests-html\n",
      "  Downloading requests_html-0.10.0-py3-none-any.whl (13 kB)\n",
      "Requirement already satisfied: pandas in /opt/anaconda3/lib/python3.8/site-packages (from yahoo_fin) (1.2.4)\n",
      "Collecting feedparser\n",
      "  Downloading feedparser-6.0.8-py3-none-any.whl (81 kB)\n",
      "\u001b[K     |████████████████████████████████| 81 kB 1.9 MB/s eta 0:00:01\n",
      "\u001b[?25hCollecting sgmllib3k\n",
      "  Downloading sgmllib3k-1.0.0.tar.gz (5.8 kB)\n",
      "Requirement already satisfied: python-dateutil>=2.7.3 in /opt/anaconda3/lib/python3.8/site-packages (from pandas->yahoo_fin) (2.8.1)\n",
      "Requirement already satisfied: pytz>=2017.3 in /opt/anaconda3/lib/python3.8/site-packages (from pandas->yahoo_fin) (2020.1)\n",
      "Requirement already satisfied: numpy>=1.16.5 in /opt/anaconda3/lib/python3.8/site-packages (from pandas->yahoo_fin) (1.20.3)\n",
      "Requirement already satisfied: six>=1.5 in /opt/anaconda3/lib/python3.8/site-packages (from python-dateutil>=2.7.3->pandas->yahoo_fin) (1.15.0)\n",
      "Requirement already satisfied: idna<3,>=2.5 in /opt/anaconda3/lib/python3.8/site-packages (from requests->yahoo_fin) (2.10)\n",
      "Requirement already satisfied: chardet<5,>=3.0.2 in /opt/anaconda3/lib/python3.8/site-packages (from requests->yahoo_fin) (3.0.4)\n",
      "Requirement already satisfied: urllib3<1.27,>=1.21.1 in /opt/anaconda3/lib/python3.8/site-packages (from requests->yahoo_fin) (1.26.5)\n",
      "Requirement already satisfied: certifi>=2017.4.17 in /opt/anaconda3/lib/python3.8/site-packages (from requests->yahoo_fin) (2020.6.20)\n",
      "Collecting pyquery\n",
      "  Downloading pyquery-1.4.3-py3-none-any.whl (22 kB)\n",
      "Collecting pyppeteer>=0.0.14\n",
      "  Downloading pyppeteer-0.2.5-py3-none-any.whl (87 kB)\n",
      "\u001b[K     |████████████████████████████████| 87 kB 3.7 MB/s eta 0:00:01:01\n",
      "\u001b[?25hCollecting w3lib\n",
      "  Downloading w3lib-1.22.0-py2.py3-none-any.whl (20 kB)\n",
      "Collecting bs4\n",
      "  Downloading bs4-0.0.1.tar.gz (1.1 kB)\n",
      "Collecting fake-useragent\n",
      "  Downloading fake-useragent-0.1.11.tar.gz (13 kB)\n",
      "Collecting parse\n",
      "  Downloading parse-1.19.0.tar.gz (30 kB)\n",
      "Collecting websockets<9.0,>=8.1\n",
      "  Downloading websockets-8.1-cp38-cp38-macosx_10_9_x86_64.whl (64 kB)\n",
      "\u001b[K     |████████████████████████████████| 64 kB 1.6 MB/s eta 0:00:01\n",
      "\u001b[?25hRequirement already satisfied: appdirs<2.0.0,>=1.4.3 in /opt/anaconda3/lib/python3.8/site-packages (from pyppeteer>=0.0.14->requests-html->yahoo_fin) (1.4.4)\n",
      "Requirement already satisfied: tqdm<5.0.0,>=4.42.1 in /opt/anaconda3/lib/python3.8/site-packages (from pyppeteer>=0.0.14->requests-html->yahoo_fin) (4.47.0)\n",
      "Collecting pyee<9.0.0,>=8.1.0\n",
      "  Downloading pyee-8.1.0-py2.py3-none-any.whl (12 kB)\n",
      "Requirement already satisfied: beautifulsoup4 in /opt/anaconda3/lib/python3.8/site-packages (from bs4->requests-html->yahoo_fin) (4.9.1)\n",
      "Requirement already satisfied: soupsieve>1.2 in /opt/anaconda3/lib/python3.8/site-packages (from beautifulsoup4->bs4->requests-html->yahoo_fin) (2.0.1)\n",
      "Collecting cssselect>0.7.9\n",
      "  Downloading cssselect-1.1.0-py2.py3-none-any.whl (16 kB)\n",
      "Requirement already satisfied: lxml>=2.1 in /opt/anaconda3/lib/python3.8/site-packages (from pyquery->requests-html->yahoo_fin) (4.5.2)\n",
      "Building wheels for collected packages: bs4, fake-useragent, parse, sgmllib3k\n",
      "  Building wheel for bs4 (setup.py) ... \u001b[?25ldone\n",
      "\u001b[?25h  Created wheel for bs4: filename=bs4-0.0.1-py3-none-any.whl size=1273 sha256=80a6f2bb479052328ce88018246d421c67c1eabbd43dc1038d23520664ab8b3c\n",
      "  Stored in directory: /Users/LouisaEbert/Library/Caches/pip/wheels/75/78/21/68b124549c9bdc94f822c02fb9aa3578a669843f9767776bca\n",
      "  Building wheel for fake-useragent (setup.py) ... \u001b[?25ldone\n",
      "\u001b[?25h  Created wheel for fake-useragent: filename=fake_useragent-0.1.11-py3-none-any.whl size=13486 sha256=cead4af9bb06bf0fd6207ec93bc85c121734ad84b6313b38dd27b6c7712e6f38\n",
      "  Stored in directory: /Users/LouisaEbert/Library/Caches/pip/wheels/a0/b8/b7/8c942b2c5be5158b874a88195116b05ad124bac795f6665e65\n",
      "  Building wheel for parse (setup.py) ... \u001b[?25ldone\n",
      "\u001b[?25h  Created wheel for parse: filename=parse-1.19.0-py3-none-any.whl size=24581 sha256=13c62ab954802ab13e5d9c778a4d51c918e2a08750106f3d6a8d6a14ce19a884\n",
      "  Stored in directory: /Users/LouisaEbert/Library/Caches/pip/wheels/e5/33/1f/68392720485b3ecf125a69e700baaab7624616deedea2fa6e2\n",
      "  Building wheel for sgmllib3k (setup.py) ... \u001b[?25ldone\n",
      "\u001b[?25h  Created wheel for sgmllib3k: filename=sgmllib3k-1.0.0-py3-none-any.whl size=6065 sha256=a6ab8d086b46c277abc20336045ccbae2ff5b26ece790251347f728c91a144df\n",
      "  Stored in directory: /Users/LouisaEbert/Library/Caches/pip/wheels/83/63/2f/117884c3b19d46b64d3d61690333aa80c88dc14050e269c546\n",
      "Successfully built bs4 fake-useragent parse sgmllib3k\n",
      "Installing collected packages: websockets, pyee, cssselect, w3lib, sgmllib3k, pyquery, pyppeteer, parse, fake-useragent, bs4, requests-html, feedparser, yahoo-fin\n",
      "  Attempting uninstall: websockets\n",
      "    Found existing installation: websockets 9.1\n",
      "    Uninstalling websockets-9.1:\n",
      "      Successfully uninstalled websockets-9.1\n",
      "Successfully installed bs4-0.0.1 cssselect-1.1.0 fake-useragent-0.1.11 feedparser-6.0.8 parse-1.19.0 pyee-8.1.0 pyppeteer-0.2.5 pyquery-1.4.3 requests-html-0.10.0 sgmllib3k-1.0.0 w3lib-1.22.0 websockets-8.1 yahoo-fin-0.8.9.1\n",
      "\u001b[33mWARNING: You are using pip version 21.1.2; however, version 21.1.3 is available.\n",
      "You should consider upgrading via the '/opt/anaconda3/bin/python -m pip install --upgrade pip' command.\u001b[0m\n",
      "Note: you may need to restart the kernel to use updated packages.\n"
     ]
    }
   ],
   "source": [
    "pip install yahoo_fin"
   ]
  },
  {
   "cell_type": "code",
   "execution_count": 33,
   "metadata": {},
   "outputs": [],
   "source": [
    "from yahoo_fin.stock_info import get_data"
   ]
  },
  {
   "cell_type": "code",
   "execution_count": 36,
   "metadata": {},
   "outputs": [],
   "source": [
    "data=get_data('ZM', start_date = None, end_date = None, index_as_date = False, interval = \"1d\")"
   ]
  },
  {
   "cell_type": "code",
   "execution_count": 37,
   "metadata": {},
   "outputs": [
    {
     "data": {
      "text/html": [
       "<div>\n",
       "<style scoped>\n",
       "    .dataframe tbody tr th:only-of-type {\n",
       "        vertical-align: middle;\n",
       "    }\n",
       "\n",
       "    .dataframe tbody tr th {\n",
       "        vertical-align: top;\n",
       "    }\n",
       "\n",
       "    .dataframe thead th {\n",
       "        text-align: right;\n",
       "    }\n",
       "</style>\n",
       "<table border=\"1\" class=\"dataframe\">\n",
       "  <thead>\n",
       "    <tr style=\"text-align: right;\">\n",
       "      <th></th>\n",
       "      <th>date</th>\n",
       "      <th>open</th>\n",
       "      <th>high</th>\n",
       "      <th>low</th>\n",
       "      <th>close</th>\n",
       "      <th>adjclose</th>\n",
       "      <th>volume</th>\n",
       "      <th>ticker</th>\n",
       "    </tr>\n",
       "  </thead>\n",
       "  <tbody>\n",
       "    <tr>\n",
       "      <th>0</th>\n",
       "      <td>2019-04-18</td>\n",
       "      <td>65.000000</td>\n",
       "      <td>66.000000</td>\n",
       "      <td>60.320999</td>\n",
       "      <td>62.000000</td>\n",
       "      <td>62.000000</td>\n",
       "      <td>25764700</td>\n",
       "      <td>ZM</td>\n",
       "    </tr>\n",
       "    <tr>\n",
       "      <th>1</th>\n",
       "      <td>2019-04-22</td>\n",
       "      <td>61.000000</td>\n",
       "      <td>68.900002</td>\n",
       "      <td>59.939999</td>\n",
       "      <td>65.699997</td>\n",
       "      <td>65.699997</td>\n",
       "      <td>9949700</td>\n",
       "      <td>ZM</td>\n",
       "    </tr>\n",
       "    <tr>\n",
       "      <th>2</th>\n",
       "      <td>2019-04-23</td>\n",
       "      <td>66.870003</td>\n",
       "      <td>74.168999</td>\n",
       "      <td>65.550003</td>\n",
       "      <td>69.000000</td>\n",
       "      <td>69.000000</td>\n",
       "      <td>6786500</td>\n",
       "      <td>ZM</td>\n",
       "    </tr>\n",
       "    <tr>\n",
       "      <th>3</th>\n",
       "      <td>2019-04-24</td>\n",
       "      <td>71.400002</td>\n",
       "      <td>71.500000</td>\n",
       "      <td>63.160000</td>\n",
       "      <td>63.200001</td>\n",
       "      <td>63.200001</td>\n",
       "      <td>4973500</td>\n",
       "      <td>ZM</td>\n",
       "    </tr>\n",
       "    <tr>\n",
       "      <th>4</th>\n",
       "      <td>2019-04-25</td>\n",
       "      <td>64.739998</td>\n",
       "      <td>66.849998</td>\n",
       "      <td>62.599998</td>\n",
       "      <td>65.000000</td>\n",
       "      <td>65.000000</td>\n",
       "      <td>3863300</td>\n",
       "      <td>ZM</td>\n",
       "    </tr>\n",
       "    <tr>\n",
       "      <th>...</th>\n",
       "      <td>...</td>\n",
       "      <td>...</td>\n",
       "      <td>...</td>\n",
       "      <td>...</td>\n",
       "      <td>...</td>\n",
       "      <td>...</td>\n",
       "      <td>...</td>\n",
       "      <td>...</td>\n",
       "    </tr>\n",
       "    <tr>\n",
       "      <th>556</th>\n",
       "      <td>2021-07-02</td>\n",
       "      <td>390.480011</td>\n",
       "      <td>398.720001</td>\n",
       "      <td>386.549988</td>\n",
       "      <td>388.890015</td>\n",
       "      <td>388.890015</td>\n",
       "      <td>2065000</td>\n",
       "      <td>ZM</td>\n",
       "    </tr>\n",
       "    <tr>\n",
       "      <th>557</th>\n",
       "      <td>2021-07-06</td>\n",
       "      <td>392.579987</td>\n",
       "      <td>403.470001</td>\n",
       "      <td>391.559998</td>\n",
       "      <td>401.119995</td>\n",
       "      <td>401.119995</td>\n",
       "      <td>3436200</td>\n",
       "      <td>ZM</td>\n",
       "    </tr>\n",
       "    <tr>\n",
       "      <th>558</th>\n",
       "      <td>2021-07-07</td>\n",
       "      <td>403.859985</td>\n",
       "      <td>406.480011</td>\n",
       "      <td>393.299988</td>\n",
       "      <td>393.910004</td>\n",
       "      <td>393.910004</td>\n",
       "      <td>2026600</td>\n",
       "      <td>ZM</td>\n",
       "    </tr>\n",
       "    <tr>\n",
       "      <th>559</th>\n",
       "      <td>2021-07-08</td>\n",
       "      <td>386.000000</td>\n",
       "      <td>390.500000</td>\n",
       "      <td>377.500000</td>\n",
       "      <td>386.010010</td>\n",
       "      <td>386.010010</td>\n",
       "      <td>2748900</td>\n",
       "      <td>ZM</td>\n",
       "    </tr>\n",
       "    <tr>\n",
       "      <th>560</th>\n",
       "      <td>2021-07-09</td>\n",
       "      <td>381.019989</td>\n",
       "      <td>387.529999</td>\n",
       "      <td>377.791992</td>\n",
       "      <td>385.079987</td>\n",
       "      <td>385.079987</td>\n",
       "      <td>1917800</td>\n",
       "      <td>ZM</td>\n",
       "    </tr>\n",
       "  </tbody>\n",
       "</table>\n",
       "<p>561 rows × 8 columns</p>\n",
       "</div>"
      ],
      "text/plain": [
       "          date        open        high         low       close    adjclose  \\\n",
       "0   2019-04-18   65.000000   66.000000   60.320999   62.000000   62.000000   \n",
       "1   2019-04-22   61.000000   68.900002   59.939999   65.699997   65.699997   \n",
       "2   2019-04-23   66.870003   74.168999   65.550003   69.000000   69.000000   \n",
       "3   2019-04-24   71.400002   71.500000   63.160000   63.200001   63.200001   \n",
       "4   2019-04-25   64.739998   66.849998   62.599998   65.000000   65.000000   \n",
       "..         ...         ...         ...         ...         ...         ...   \n",
       "556 2021-07-02  390.480011  398.720001  386.549988  388.890015  388.890015   \n",
       "557 2021-07-06  392.579987  403.470001  391.559998  401.119995  401.119995   \n",
       "558 2021-07-07  403.859985  406.480011  393.299988  393.910004  393.910004   \n",
       "559 2021-07-08  386.000000  390.500000  377.500000  386.010010  386.010010   \n",
       "560 2021-07-09  381.019989  387.529999  377.791992  385.079987  385.079987   \n",
       "\n",
       "       volume ticker  \n",
       "0    25764700     ZM  \n",
       "1     9949700     ZM  \n",
       "2     6786500     ZM  \n",
       "3     4973500     ZM  \n",
       "4     3863300     ZM  \n",
       "..        ...    ...  \n",
       "556   2065000     ZM  \n",
       "557   3436200     ZM  \n",
       "558   2026600     ZM  \n",
       "559   2748900     ZM  \n",
       "560   1917800     ZM  \n",
       "\n",
       "[561 rows x 8 columns]"
      ]
     },
     "execution_count": 37,
     "metadata": {},
     "output_type": "execute_result"
    }
   ],
   "source": [
    "data"
   ]
  },
  {
   "cell_type": "code",
   "execution_count": 11,
   "metadata": {},
   "outputs": [],
   "source": [
    "move=5"
   ]
  },
  {
   "cell_type": "code",
   "execution_count": 45,
   "metadata": {},
   "outputs": [
    {
     "data": {
      "text/plain": [
       "[datetime.datetime(2021, 7, 10, 10, 21, 18, 809411),\n",
       " datetime.datetime(2021, 7, 11, 10, 21, 18, 809426),\n",
       " datetime.datetime(2021, 7, 12, 10, 21, 18, 809431),\n",
       " datetime.datetime(2021, 7, 13, 10, 21, 18, 809435),\n",
       " datetime.datetime(2021, 7, 14, 10, 21, 18, 809439)]"
      ]
     },
     "execution_count": 45,
     "metadata": {},
     "output_type": "execute_result"
    }
   ],
   "source": [
    "dates=[]\n",
    "\n",
    "for i in range(move):\n",
    "    dates.append((datetime.now() + timedelta(days=i)))\n",
    "    \n",
    "dates"
   ]
  },
  {
   "cell_type": "code",
   "execution_count": 13,
   "metadata": {
    "scrolled": false
   },
   "outputs": [],
   "source": [
    "df_pred=pd.DataFrame()"
   ]
  },
  {
   "cell_type": "code",
   "execution_count": 59,
   "metadata": {},
   "outputs": [],
   "source": [
    "df_pred['value']=data.close.tail(move)\n",
    "df_pred['date']=dates"
   ]
  },
  {
   "cell_type": "code",
   "execution_count": 61,
   "metadata": {},
   "outputs": [
    {
     "data": {
      "text/html": [
       "<div>\n",
       "<style scoped>\n",
       "    .dataframe tbody tr th:only-of-type {\n",
       "        vertical-align: middle;\n",
       "    }\n",
       "\n",
       "    .dataframe tbody tr th {\n",
       "        vertical-align: top;\n",
       "    }\n",
       "\n",
       "    .dataframe thead th {\n",
       "        text-align: right;\n",
       "    }\n",
       "</style>\n",
       "<table border=\"1\" class=\"dataframe\">\n",
       "  <thead>\n",
       "    <tr style=\"text-align: right;\">\n",
       "      <th></th>\n",
       "      <th>pred_date</th>\n",
       "      <th>value</th>\n",
       "      <th>date</th>\n",
       "    </tr>\n",
       "  </thead>\n",
       "  <tbody>\n",
       "    <tr>\n",
       "      <th>556</th>\n",
       "      <td>2021-07-14 10:20:41.085966</td>\n",
       "      <td>388.890015</td>\n",
       "      <td>2021-07-10 10:21:18.809411</td>\n",
       "    </tr>\n",
       "    <tr>\n",
       "      <th>557</th>\n",
       "      <td>2021-07-14 10:20:41.085966</td>\n",
       "      <td>401.119995</td>\n",
       "      <td>2021-07-11 10:21:18.809426</td>\n",
       "    </tr>\n",
       "    <tr>\n",
       "      <th>558</th>\n",
       "      <td>2021-07-14 10:20:41.085966</td>\n",
       "      <td>393.910004</td>\n",
       "      <td>2021-07-12 10:21:18.809431</td>\n",
       "    </tr>\n",
       "    <tr>\n",
       "      <th>559</th>\n",
       "      <td>2021-07-14 10:20:41.085966</td>\n",
       "      <td>386.010010</td>\n",
       "      <td>2021-07-13 10:21:18.809435</td>\n",
       "    </tr>\n",
       "    <tr>\n",
       "      <th>560</th>\n",
       "      <td>2021-07-14 10:20:41.085966</td>\n",
       "      <td>385.079987</td>\n",
       "      <td>2021-07-14 10:21:18.809439</td>\n",
       "    </tr>\n",
       "  </tbody>\n",
       "</table>\n",
       "</div>"
      ],
      "text/plain": [
       "                     pred_date       value                       date\n",
       "556 2021-07-14 10:20:41.085966  388.890015 2021-07-10 10:21:18.809411\n",
       "557 2021-07-14 10:20:41.085966  401.119995 2021-07-11 10:21:18.809426\n",
       "558 2021-07-14 10:20:41.085966  393.910004 2021-07-12 10:21:18.809431\n",
       "559 2021-07-14 10:20:41.085966  386.010010 2021-07-13 10:21:18.809435\n",
       "560 2021-07-14 10:20:41.085966  385.079987 2021-07-14 10:21:18.809439"
      ]
     },
     "execution_count": 61,
     "metadata": {},
     "output_type": "execute_result"
    }
   ],
   "source": [
    "df_pred"
   ]
  },
  {
   "cell_type": "code",
   "execution_count": 54,
   "metadata": {},
   "outputs": [],
   "source": [
    "d=np.array(data.date.tail(move))\n",
    "c=np.array(data.close.tail(move))"
   ]
  },
  {
   "cell_type": "code",
   "execution_count": 56,
   "metadata": {},
   "outputs": [
    {
     "data": {
      "text/plain": [
       "numpy.ndarray"
      ]
     },
     "execution_count": 56,
     "metadata": {},
     "output_type": "execute_result"
    }
   ],
   "source": [
    "type(c)"
   ]
  },
  {
   "cell_type": "code",
   "execution_count": 64,
   "metadata": {},
   "outputs": [],
   "source": [
    "x_date=np.append(d,np.array(df_pred.date))\n",
    "y_price=np.append(c,np.array(df_pred.value))"
   ]
  },
  {
   "cell_type": "code",
   "execution_count": 72,
   "metadata": {},
   "outputs": [
    {
     "data": {
      "text/plain": [
       "array(['2021-07-02T00:00:00.000000000', '2021-07-06T00:00:00.000000000',\n",
       "       '2021-07-07T00:00:00.000000000', '2021-07-08T00:00:00.000000000',\n",
       "       '2021-07-09T00:00:00.000000000', '2021-07-10T10:21:18.809411000',\n",
       "       '2021-07-11T10:21:18.809426000', '2021-07-12T10:21:18.809431000',\n",
       "       '2021-07-13T10:21:18.809435000', '2021-07-14T10:21:18.809439000'],\n",
       "      dtype='datetime64[ns]')"
      ]
     },
     "execution_count": 72,
     "metadata": {},
     "output_type": "execute_result"
    }
   ],
   "source": [
    "x_date"
   ]
  },
  {
   "cell_type": "code",
   "execution_count": 69,
   "metadata": {},
   "outputs": [
    {
     "data": {
      "image/png": "[encoded data removed]",
      "text/plain": [
       "<Figure size 2160x576 with 1 Axes>"
      ]
     },
     "metadata": {
      "needs_background": "light"
     },
     "output_type": "display_data"
    }
   ],
   "source": [
    "plt.figure(figsize=[30,8])\n",
    "x1 = data.date.tail(move)\n",
    "y1 = data.close.tail(move)\n",
    "# plotting the line 1 points \n",
    "plt.plot(x1, y1, label = \"line 1\")\n",
    "# line 2 points\n",
    "x2 = df_pred.date\n",
    "y2 = df_pred.value\n",
    "# plotting the line 2 points \n",
    "plt.plot(x2, y2, label = \"line 2\")\n",
    "#plt.yscale(\"log\")\n",
    "plt.xlabel('x - axis')\n",
    "# Set the y axis label of the current axis.\n",
    "plt.ylabel('y - axis')\n",
    "# Set a title of the current axes.\n",
    "plt.title('Two or more lines on same plot with suitable legends ')\n",
    "# show a legend on the plot\n",
    "plt.legend()\n",
    "# Display a figure.\n",
    "plt.show()"
   ]
  },
  {
   "cell_type": "code",
   "execution_count": null,
   "metadata": {},
   "outputs": [],
   "source": []
  }
 ],
 "metadata": {
  "kernelspec": {
   "display_name": "Python 3",
   "language": "python",
   "name": "python3"
  },
  "language_info": {
   "codemirror_mode": {
    "name": "ipython",
    "version": 3
   },
   "file_extension": ".py",
   "mimetype": "text/x-python",
   "name": "python",
   "nbconvert_exporter": "python",
   "pygments_lexer": "ipython3",
   "version": "3.8.3"
  }
 },
 "nbformat": 4,
 "nbformat_minor": 4
}

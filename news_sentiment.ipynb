{
 "metadata": {
  "language_info": {
   "codemirror_mode": {
    "name": "ipython",
    "version": 3
   },
   "file_extension": ".py",
   "mimetype": "text/x-python",
   "name": "python",
   "nbconvert_exporter": "python",
   "pygments_lexer": "ipython3",
   "version": "3.7.10"
  },
  "orig_nbformat": 2,
  "kernelspec": {
   "name": "python3710jvsc74a57bd022a63b945ad88ad6aa60a7f3f570c70abf6faa8a03284077614716ef20649993",
   "display_name": "Python 3.7.10 64-bit ('uni': conda)"
  }
 },
 "nbformat": 4,
 "nbformat_minor": 2,
 "cells": [
  {
   "cell_type": "code",
   "execution_count": 43,
   "metadata": {},
   "outputs": [],
   "source": [
    "import numpy as np\n",
    "import pandas as pd \n",
    "import datetime\n",
    "import matplotlib.pyplot as plt\n",
    "import seaborn as sns\n",
    "import nltk \n",
    "from nltk.sentiment.vader import SentimentIntensityAnalyzer\n",
    "import requests\n",
    "from datetime import datetime"
   ]
  },
  {
   "cell_type": "code",
   "execution_count": 48,
   "metadata": {},
   "outputs": [],
   "source": [
    "sid_obj = SentimentIntensityAnalyzer()"
   ]
  },
  {
   "source": [
    "# company news\n",
    "summary is not full\n",
    "\n",
    "should be grouped by date and mean sentiment"
   ],
   "cell_type": "markdown",
   "metadata": {}
  },
  {
   "cell_type": "code",
   "execution_count": 49,
   "metadata": {
    "tags": []
   },
   "outputs": [
    {
     "output_type": "stream",
     "name": "stdout",
     "text": [
      "The stock market has experienced some extreme volatility in recent weeks, but JJ Kinahan, TD Ameritrade's chief market strategist, says retail traders have still been buying...\n"
     ]
    },
    {
     "output_type": "execute_result",
     "data": {
      "text/plain": [
       "  category    datetime                                           headline  \\\n",
       "0  company  2021-03-10  Schwab, TD Ameritrade Experts Talk Retail Trad...   \n",
       "1  company  2021-03-09  Zoom Video Communications Inc. stock outperfor...   \n",
       "2  company  2021-03-09  Why Comcast Could Be Ready To Cash In On Hulu ...   \n",
       "3  company  2021-03-09              IPO: Reducing The Fear Of Missing Out   \n",
       "4  company  2021-03-09  ARK Innovation And The Demise Of Growth Investing   \n",
       "\n",
       "                                             summary  headline_sentiment  \\\n",
       "0  The stock market has experienced some extreme ...              0.2500   \n",
       "1  Shares of Zoom Video Communications Inc. climb...              0.5106   \n",
       "2  The streaming market has seen explosive growth...              0.3612   \n",
       "3  Renaissance IPO ETF provides a chance to inves...             -0.6597   \n",
       "4  The ARK Innovation ETF has erased all of its 2...              0.6369   \n",
       "\n",
       "   summary_sentiment  \n",
       "0             0.5573  \n",
       "1             0.6486  \n",
       "2             0.3818  \n",
       "3             0.1531  \n",
       "4             0.3612  "
      ],
      "text/html": "<div>\n<style scoped>\n    .dataframe tbody tr th:only-of-type {\n        vertical-align: middle;\n    }\n\n    .dataframe tbody tr th {\n        vertical-align: top;\n    }\n\n    .dataframe thead th {\n        text-align: right;\n    }\n</style>\n<table border=\"1\" class=\"dataframe\">\n  <thead>\n    <tr style=\"text-align: right;\">\n      <th></th>\n      <th>category</th>\n      <th>datetime</th>\n      <th>headline</th>\n      <th>summary</th>\n      <th>headline_sentiment</th>\n      <th>summary_sentiment</th>\n    </tr>\n  </thead>\n  <tbody>\n    <tr>\n      <th>0</th>\n      <td>company</td>\n      <td>2021-03-10</td>\n      <td>Schwab, TD Ameritrade Experts Talk Retail Trad...</td>\n      <td>The stock market has experienced some extreme ...</td>\n      <td>0.2500</td>\n      <td>0.5573</td>\n    </tr>\n    <tr>\n      <th>1</th>\n      <td>company</td>\n      <td>2021-03-09</td>\n      <td>Zoom Video Communications Inc. stock outperfor...</td>\n      <td>Shares of Zoom Video Communications Inc. climb...</td>\n      <td>0.5106</td>\n      <td>0.6486</td>\n    </tr>\n    <tr>\n      <th>2</th>\n      <td>company</td>\n      <td>2021-03-09</td>\n      <td>Why Comcast Could Be Ready To Cash In On Hulu ...</td>\n      <td>The streaming market has seen explosive growth...</td>\n      <td>0.3612</td>\n      <td>0.3818</td>\n    </tr>\n    <tr>\n      <th>3</th>\n      <td>company</td>\n      <td>2021-03-09</td>\n      <td>IPO: Reducing The Fear Of Missing Out</td>\n      <td>Renaissance IPO ETF provides a chance to inves...</td>\n      <td>-0.6597</td>\n      <td>0.1531</td>\n    </tr>\n    <tr>\n      <th>4</th>\n      <td>company</td>\n      <td>2021-03-09</td>\n      <td>ARK Innovation And The Demise Of Growth Investing</td>\n      <td>The ARK Innovation ETF has erased all of its 2...</td>\n      <td>0.6369</td>\n      <td>0.3612</td>\n    </tr>\n  </tbody>\n</table>\n</div>"
     },
     "metadata": {},
     "execution_count": 49
    }
   ],
   "source": [
    "r = requests.get('https://finnhub.io/api/v1/company-news?symbol=ZM&from=2021-03-01&to=2021-03-09&token=c2si65iad3ic1qis06lg')\n",
    "print(r.json()[0]['summary'])\n",
    "news_df = pd.DataFrame(r.json())\n",
    "news_df['datetime'] = [datetime.utcfromtimestamp(i).strftime('%Y-%m-%d') for i in news_df.datetime]\n",
    "news_df.drop(['id','image', 'related','source', 'url'], axis=1, inplace=True)\n",
    "news_df['headline_sentiment'] = [sid_obj.polarity_scores(c)['compound'] for c in news_df['headline']]\n",
    "news_df['summary_sentiment'] = [sid_obj.polarity_scores(c)['compound'] for c in news_df['summary']]\n",
    "news_df.head()"
   ]
  },
  {
   "cell_type": "code",
   "execution_count": 50,
   "metadata": {},
   "outputs": [
    {
     "output_type": "execute_result",
     "data": {
      "text/plain": [
       "  category    datetime                                           headline  \\\n",
       "1  company  2021-03-09  Zoom Video Communications Inc. stock outperfor...   \n",
       "2  company  2021-03-09  Why Comcast Could Be Ready To Cash In On Hulu ...   \n",
       "3  company  2021-03-09              IPO: Reducing The Fear Of Missing Out   \n",
       "4  company  2021-03-09  ARK Innovation And The Demise Of Growth Investing   \n",
       "5  company  2021-03-09  Covid Conundrum: Zoom In The Spotlight Once Mo...   \n",
       "6  company  2021-03-09  Zoom Founder Eric Yuan Transfers $6 Billion of...   \n",
       "7  company  2021-03-09  Wall Street Breakfast: Correcting The Correction?   \n",
       "\n",
       "                                             summary  headline_sentiment  \\\n",
       "1  Shares of Zoom Video Communications Inc. climb...              0.5106   \n",
       "2  The streaming market has seen explosive growth...              0.3612   \n",
       "3  Renaissance IPO ETF provides a chance to inves...             -0.6597   \n",
       "4  The ARK Innovation ETF has erased all of its 2...              0.6369   \n",
       "5  The end may at last be coming for the pandemic...              0.0000   \n",
       "6  The videoconferencing platform’s chief executi...              0.4215   \n",
       "7  Listen on the go! A daily podcast of Wall Stre...              0.0000   \n",
       "\n",
       "   summary_sentiment  \n",
       "1             0.6486  \n",
       "2             0.3818  \n",
       "3             0.1531  \n",
       "4             0.3612  \n",
       "5             0.5859  \n",
       "6             0.0000  \n",
       "7             0.0000  "
      ],
      "text/html": "<div>\n<style scoped>\n    .dataframe tbody tr th:only-of-type {\n        vertical-align: middle;\n    }\n\n    .dataframe tbody tr th {\n        vertical-align: top;\n    }\n\n    .dataframe thead th {\n        text-align: right;\n    }\n</style>\n<table border=\"1\" class=\"dataframe\">\n  <thead>\n    <tr style=\"text-align: right;\">\n      <th></th>\n      <th>category</th>\n      <th>datetime</th>\n      <th>headline</th>\n      <th>summary</th>\n      <th>headline_sentiment</th>\n      <th>summary_sentiment</th>\n    </tr>\n  </thead>\n  <tbody>\n    <tr>\n      <th>1</th>\n      <td>company</td>\n      <td>2021-03-09</td>\n      <td>Zoom Video Communications Inc. stock outperfor...</td>\n      <td>Shares of Zoom Video Communications Inc. climb...</td>\n      <td>0.5106</td>\n      <td>0.6486</td>\n    </tr>\n    <tr>\n      <th>2</th>\n      <td>company</td>\n      <td>2021-03-09</td>\n      <td>Why Comcast Could Be Ready To Cash In On Hulu ...</td>\n      <td>The streaming market has seen explosive growth...</td>\n      <td>0.3612</td>\n      <td>0.3818</td>\n    </tr>\n    <tr>\n      <th>3</th>\n      <td>company</td>\n      <td>2021-03-09</td>\n      <td>IPO: Reducing The Fear Of Missing Out</td>\n      <td>Renaissance IPO ETF provides a chance to inves...</td>\n      <td>-0.6597</td>\n      <td>0.1531</td>\n    </tr>\n    <tr>\n      <th>4</th>\n      <td>company</td>\n      <td>2021-03-09</td>\n      <td>ARK Innovation And The Demise Of Growth Investing</td>\n      <td>The ARK Innovation ETF has erased all of its 2...</td>\n      <td>0.6369</td>\n      <td>0.3612</td>\n    </tr>\n    <tr>\n      <th>5</th>\n      <td>company</td>\n      <td>2021-03-09</td>\n      <td>Covid Conundrum: Zoom In The Spotlight Once Mo...</td>\n      <td>The end may at last be coming for the pandemic...</td>\n      <td>0.0000</td>\n      <td>0.5859</td>\n    </tr>\n    <tr>\n      <th>6</th>\n      <td>company</td>\n      <td>2021-03-09</td>\n      <td>Zoom Founder Eric Yuan Transfers $6 Billion of...</td>\n      <td>The videoconferencing platform’s chief executi...</td>\n      <td>0.4215</td>\n      <td>0.0000</td>\n    </tr>\n    <tr>\n      <th>7</th>\n      <td>company</td>\n      <td>2021-03-09</td>\n      <td>Wall Street Breakfast: Correcting The Correction?</td>\n      <td>Listen on the go! A daily podcast of Wall Stre...</td>\n      <td>0.0000</td>\n      <td>0.0000</td>\n    </tr>\n  </tbody>\n</table>\n</div>"
     },
     "metadata": {},
     "execution_count": 50
    }
   ],
   "source": [
    "news_df[news_df.datetime == '2021-03-09']"
   ]
  },
  {
   "cell_type": "code",
   "execution_count": 55,
   "metadata": {},
   "outputs": [
    {
     "output_type": "execute_result",
     "data": {
      "text/plain": [
       "            headline_sentiment  summary_sentiment\n",
       "datetime                                         \n",
       "2021-03-01            0.123812           0.260354\n",
       "2021-03-02           -0.048075           0.163240\n",
       "2021-03-03            0.064543           0.394900\n",
       "2021-03-04           -0.050960           0.137180\n",
       "2021-03-05            0.092900           0.229513\n",
       "2021-03-06            0.670500           0.840200\n",
       "2021-03-07            0.226300           0.557400\n",
       "2021-03-08            0.123670          -0.063940\n",
       "2021-03-09            0.181500           0.304371\n",
       "2021-03-10            0.250000           0.557300"
      ],
      "text/html": "<div>\n<style scoped>\n    .dataframe tbody tr th:only-of-type {\n        vertical-align: middle;\n    }\n\n    .dataframe tbody tr th {\n        vertical-align: top;\n    }\n\n    .dataframe thead th {\n        text-align: right;\n    }\n</style>\n<table border=\"1\" class=\"dataframe\">\n  <thead>\n    <tr style=\"text-align: right;\">\n      <th></th>\n      <th>headline_sentiment</th>\n      <th>summary_sentiment</th>\n    </tr>\n    <tr>\n      <th>datetime</th>\n      <th></th>\n      <th></th>\n    </tr>\n  </thead>\n  <tbody>\n    <tr>\n      <th>2021-03-01</th>\n      <td>0.123812</td>\n      <td>0.260354</td>\n    </tr>\n    <tr>\n      <th>2021-03-02</th>\n      <td>-0.048075</td>\n      <td>0.163240</td>\n    </tr>\n    <tr>\n      <th>2021-03-03</th>\n      <td>0.064543</td>\n      <td>0.394900</td>\n    </tr>\n    <tr>\n      <th>2021-03-04</th>\n      <td>-0.050960</td>\n      <td>0.137180</td>\n    </tr>\n    <tr>\n      <th>2021-03-05</th>\n      <td>0.092900</td>\n      <td>0.229513</td>\n    </tr>\n    <tr>\n      <th>2021-03-06</th>\n      <td>0.670500</td>\n      <td>0.840200</td>\n    </tr>\n    <tr>\n      <th>2021-03-07</th>\n      <td>0.226300</td>\n      <td>0.557400</td>\n    </tr>\n    <tr>\n      <th>2021-03-08</th>\n      <td>0.123670</td>\n      <td>-0.063940</td>\n    </tr>\n    <tr>\n      <th>2021-03-09</th>\n      <td>0.181500</td>\n      <td>0.304371</td>\n    </tr>\n    <tr>\n      <th>2021-03-10</th>\n      <td>0.250000</td>\n      <td>0.557300</td>\n    </tr>\n  </tbody>\n</table>\n</div>"
     },
     "metadata": {},
     "execution_count": 55
    }
   ],
   "source": [
    "news_dates = news_df.groupby(['datetime']).mean()\n",
    "news_dates #can be used for merging on date"
   ]
  },
  {
   "source": [
    "# News Sentiment\n",
    "Get company's news sentiment and statistics. This endpoint is only available for US companies.\n",
    "\n",
    "get only one raw for the last week\n",
    "\n",
    "buzz\n",
    "Statistics of company news in the past week.\n",
    "\n",
    "articlesInLastWeek\n",
    "buzz\n",
    "weeklyAverage\n",
    "companyNewsScore\n",
    "News score.\n",
    "\n",
    "sectorAverageBullishPercent\n",
    "Sector average bullish percent.\n",
    "\n",
    "sectorAverageNewsScore\n",
    "Sectore average score.\n",
    "\n",
    "sentiment\n",
    "News sentiment.\n",
    "\n",
    "bearishPercent\n",
    "bullishPercent\n",
    "symbol\n",
    "Requested symbol."
   ],
   "cell_type": "markdown",
   "metadata": {}
  },
  {
   "cell_type": "code",
   "execution_count": 11,
   "metadata": {},
   "outputs": [
    {
     "output_type": "stream",
     "name": "stdout",
     "text": [
      "{'buzz': {'articlesInLastWeek': 50, 'buzz': 0.9708, 'weeklyAverage': 51.5}, 'companyNewsScore': 0.6739, 'sectorAverageBullishPercent': 0.6643, 'sectorAverageNewsScore': 0.5393, 'sentiment': {'bearishPercent': 0, 'bullishPercent': 1}, 'symbol': 'ZM'}\n"
     ]
    }
   ],
   "source": [
    "r = requests.get('https://finnhub.io/api/v1/news-sentiment?symbol=ZM&token=c2si65iad3ic1qis06lg')\n",
    "print(r.json())"
   ]
  },
  {
   "source": [
    "# Basic Financials\n",
    "Get company basic financials such as margin, P/E ratio, 52-week high/low etc.\n",
    "\n",
    "quarterly /  annually"
   ],
   "cell_type": "markdown",
   "metadata": {}
  },
  {
   "cell_type": "code",
   "execution_count": 20,
   "metadata": {},
   "outputs": [
    {
     "output_type": "stream",
     "name": "stdout",
     "text": [
      "{'10DayAverageTradingVolume': 4.40122, '13WeekPriceReturnDaily': 5.77673, '26WeekPriceReturnDaily': -7.71013, '3MonthAverageTradingVolume': 69.97736, '52WeekHigh': 588.84, '52WeekHighDate': '2020-10-19', '52WeekLow': 216.75, '52WeekLowDate': '2020-06-12', '52WeekPriceReturnDaily': 64.99302, '5DayPriceReturnDaily': 9.04762, 'assetTurnoverAnnual': 0.80493, 'assetTurnoverTTM': 0.82436, 'beta': None, 'bookValuePerShareAnnual': 13.15203, 'bookValuePerShareQuarterly': 14.23621, 'bookValueShareGrowth5Y': None, 'capitalSpendingGrowth5Y': None, 'cashFlowPerShareAnnual': 2.35192, 'cashFlowPerShareTTM': 3.01615, 'cashPerSharePerShareAnnual': 14.45997, 'cashPerSharePerShareQuarterly': 15.92322, 'currentDividendYieldTTM': 0, 'currentEv/freeCashFlowAnnual': 168.5417, 'currentEv/freeCashFlowTTM': 137.7837, 'currentRatioAnnual': 3.80396, 'currentRatioQuarterly': 3.49458, 'dividendGrowthRate5Y': None, 'dividendPerShare5Y': None, 'dividendPerShareAnnual': None, 'dividendYield5Y': None, 'dividendYieldIndicatedAnnual': None, 'dividendsPerShareTTM': 0, 'ebitdPerShareTTM': 2.9829, 'ebitdaCagr5Y': None, 'ebitdaInterimCagr5Y': None, 'epsBasicExclExtraItemsAnnual': 2.36575, 'epsBasicExclExtraItemsTTM': 3.02981, 'epsExclExtraItemsAnnual': 2.25248, 'epsExclExtraItemsTTM': 2.89816, 'epsGrowth3Y': None, 'epsGrowth5Y': None, 'epsGrowthQuarterlyYoy': 717.8732, 'epsGrowthTTMYoy': 1507.321, 'epsInclExtraItemsAnnual': 2.25248, 'epsInclExtraItemsTTM': 2.89816, 'epsNormalizedAnnual': 2.28508, 'focfCagr5Y': None, 'freeCashFlowAnnual': 1385.362, 'freeCashFlowPerShareTTM': 5.28122, 'freeCashFlowTTM': 1588.059, 'freeOperatingCashFlow/revenue5Y': None, 'freeOperatingCashFlow/revenueTTM': 48.42473, 'grossMargin5Y': None, 'grossMarginAnnual': 68.99755, 'grossMarginTTM': 70.01694, 'inventoryTurnoverAnnual': None, 'inventoryTurnoverTTM': None, 'longTermDebt/equityAnnual': 0, 'longTermDebt/equityQuarterly': 0, 'marketCapitalization': 107958.2, 'monthToDatePriceReturnDaily': 10.5179, 'netDebtAnnual': -4244.713, 'netDebtInterim': -4689.579, 'netIncomeEmployeeAnnual': 193360.9, 'netIncomeEmployeeTTM': 197370.4, 'netInterestCoverageAnnual': None, 'netInterestCoverageTTM': None, 'netMarginGrowth5Y': None, 'netProfitMargin5Y': None, 'netProfitMarginAnnual': 25.35732, 'netProfitMarginTTM': 26.61346, 'operatingMargin5Y': None, 'operatingMarginAnnual': 24.88708, 'operatingMarginTTM': 26.30862, 'payoutRatioAnnual': 0, 'payoutRatioTTM': 0, 'pbAnnual': 27.85883, 'pbQuarterly': 25.73719, 'pcfShareTTM': 119.034, 'peBasicExclExtraTTM': 105.4753, 'peExclExtraAnnual': 162.6651, 'peExclExtraHighTTM': None, 'peExclExtraTTM': 126.425, 'peExclLowTTM': None, 'peInclExtraTTM': 126.425, 'peNormalizedAnnual': 160.3445, 'pfcfShareAnnual': 77.9278, 'pfcfShareTTM': 67.98124, 'pretaxMargin5Y': None, 'pretaxMarginAnnual': 25.57299, 'pretaxMarginTTM': 26.76648, 'priceRelativeToS&P50013Week': -1.79647, 'priceRelativeToS&P50026Week': -20.39906, 'priceRelativeToS&P5004Week': 16.94172, 'priceRelativeToS&P50052Week': 16.61743, 'priceRelativeToS&P500Ytd': -3.94504, 'psAnnual': 40.71793, 'psTTM': 32.91973, 'ptbvAnnual': 28.1403, 'ptbvQuarterly': 25.96561, 'quickRatioAnnual': None, 'quickRatioQuarterly': None, 'receivablesTurnoverAnnual': 12.77343, 'receivablesTurnoverTTM': 10.51341, 'revenueEmployeeAnnual': 762544.8, 'revenueEmployeeTTM': 741618.8, 'revenueGrowth3Y': 159.6409, 'revenueGrowth5Y': None, 'revenueGrowthQuarterlyYoy': 191.3873, 'revenueGrowthTTMYoy': 295.6674, 'revenuePerShareAnnual': 8.8934, 'revenuePerShareTTM': 10.90605, 'revenueShareGrowth5Y': None, 'roaRfy': 20.41082, 'roaa5Y': None, 'roae5Y': None, 'roaeTTM': 34.22971, 'roeRfy': 28.60782, 'roeTTM': 21.93909, 'roi5Y': None, 'roiAnnual': 26.92472, 'roiTTM': 32.35931, 'tangibleBookValuePerShareAnnual': 13.06911, 'tangibleBookValuePerShareQuarterly': 14.11738, 'tbvCagr5Y': None, 'totalDebt/totalEquityAnnual': 0, 'totalDebt/totalEquityQuarterly': 0, 'totalDebtCagr5Y': None, 'yearToDatePriceReturnDaily': 8.62089}\n{'cashRatio': [{'period': '2020-01-31', 'v': 0.8481382739717821}, {'period': '2019-01-31', 'v': 0.4176420005120092}, {'period': '2018-01-31', 'v': 0.5274555297757154}], 'currentRatio': [{'period': '2020-01-31', 'v': 3.2817}, {'period': '2019-01-31', 'v': 1.8164}, {'period': '2018-01-31', 'v': 2.6728}], 'ebitPerShare': [{'period': '2020-01-31', 'v': 0.0499}, {'period': '2019-01-31', 'v': 0.0241}, {'period': '2018-01-31', 'v': -0.0189}, {'period': '2017-01-31', 'v': 0}], 'eps': [{'period': '2020-01-31', 'v': 0.0995}, {'period': '2019-01-31', 'v': 0.0296}, {'period': '2018-01-31', 'v': -0.0149}, {'period': '2017-01-31', 'v': -0.0001}], 'grossMargin': [{'period': '2020-01-31', 'v': 0.8147}, {'period': '2019-01-31', 'v': 0.8154}, {'period': '2018-01-31', 'v': 0.7968}, {'period': '2017-01-31', 'v': 0.7949}], 'longtermDebtTotalAsset': [{'period': '2020-01-31', 'v': 0}, {'period': '2019-01-31', 'v': 0.0419}, {'period': '2018-01-31', 'v': 0}], 'longtermDebtTotalCapital': [{'period': '2020-01-31', 'v': 0}, {'period': '2019-01-31', 'v': 0.089}, {'period': '2018-01-31', 'v': 0}], 'longtermDebtTotalEquity': [{'period': '2020-01-31', 'v': 0}, {'period': '2019-01-31', 'v': 0.0977}, {'period': '2018-01-31', 'v': 0}], 'netDebtToTotalCapital': [{'period': '2020-01-31', 'v': -0.3395}, {'period': '2019-01-31', 'v': -0.2921}, {'period': '2018-01-31', 'v': -0.272}], 'netDebtToTotalEquity': [{'period': '2020-01-31', 'v': -0.3395}, {'period': '2019-01-31', 'v': -0.3206}, {'period': '2018-01-31', 'v': -0.272}], 'netMargin': [{'period': '2020-01-31', 'v': 0.0406}, {'period': '2019-01-31', 'v': 0.0229}, {'period': '2018-01-31', 'v': -0.0252}, {'period': '2017-01-31', 'v': -0.0002}], 'operatingMargin': [{'period': '2020-01-31', 'v': 0.0204}, {'period': '2019-01-31', 'v': 0.0187}, {'period': '2018-01-31', 'v': -0.0319}, {'period': '2017-01-31', 'v': 0}], 'pretaxMargin': [{'period': '2020-01-31', 'v': 0.0423}, {'period': '2019-01-31', 'v': 0.0253}, {'period': '2018-01-31', 'v': -0.0232}, {'period': '2017-01-31', 'v': 0.0026}], 'salesPerShare': [{'period': '2020-01-31', 'v': 2.4485}, {'period': '2019-01-31', 'v': 1.2891}, {'period': '2018-01-31', 'v': 0.5908}, {'period': '2017-01-31', 'v': 0.2372}], 'sgaToSale': [{'period': '2020-01-31', 'v': 0.1853}, {'period': '2019-01-31', 'v': 0.1846}, {'period': '2018-01-31', 'v': 0.2032}, {'period': '2017-01-31', 'v': 0.2051}], 'totalDebtToEquity': [{'period': '2020-01-31', 'v': 0}, {'period': '2019-01-31', 'v': 0.0977}, {'period': '2018-01-31', 'v': 0}], 'totalDebtToTotalAsset': [{'period': '2020-01-31', 'v': 0}, {'period': '2019-01-31', 'v': 0.0419}, {'period': '2018-01-31', 'v': 0}], 'totalDebtToTotalCapital': [{'period': '2020-01-31', 'v': 0}, {'period': '2019-01-31', 'v': 0.089}, {'period': '2018-01-31', 'v': 0}], 'totalRatio': [{'period': '2020-01-31', 'v': 2.8292}, {'period': '2019-01-31', 'v': 1.7514}, {'period': '2018-01-31', 'v': 2.6178}]}\n"
     ]
    }
   ],
   "source": [
    "r = requests.get('https://finnhub.io/api/v1/stock/metric?symbol=ZM&metric=all&token=c2si65iad3ic1qis06lg')\n",
    "print(r.json()['metric'])\n",
    "print(r.json()['series']['annual'])"
   ]
  },
  {
   "source": [
    "# Recommendation Trends\n",
    "Get latest analyst recommendation trends for a company.\n",
    "\n",
    "per month"
   ],
   "cell_type": "markdown",
   "metadata": {}
  },
  {
   "cell_type": "code",
   "execution_count": 38,
   "metadata": {},
   "outputs": [
    {
     "output_type": "stream",
     "name": "stdout",
     "text": [
      "{'buy': 11, 'hold': 13, 'period': '2021-05-01', 'sell': 0, 'strongBuy': 10, 'strongSell': 1, 'symbol': 'ZM'}\n"
     ]
    },
    {
     "output_type": "execute_result",
     "data": {
      "text/plain": [
       "   buy  hold      period  sell  strongBuy  strongSell symbol\n",
       "0    9    14  2021-06-01     0         10           1     ZM\n",
       "1   11    13  2021-05-01     0         10           1     ZM\n",
       "2   12    14  2021-04-01     1          9           1     ZM\n",
       "3   10    16  2021-03-01     1          9           0     ZM\n",
       "4   10    16  2021-02-01     1          9           0     ZM"
      ],
      "text/html": "<div>\n<style scoped>\n    .dataframe tbody tr th:only-of-type {\n        vertical-align: middle;\n    }\n\n    .dataframe tbody tr th {\n        vertical-align: top;\n    }\n\n    .dataframe thead th {\n        text-align: right;\n    }\n</style>\n<table border=\"1\" class=\"dataframe\">\n  <thead>\n    <tr style=\"text-align: right;\">\n      <th></th>\n      <th>buy</th>\n      <th>hold</th>\n      <th>period</th>\n      <th>sell</th>\n      <th>strongBuy</th>\n      <th>strongSell</th>\n      <th>symbol</th>\n    </tr>\n  </thead>\n  <tbody>\n    <tr>\n      <th>0</th>\n      <td>9</td>\n      <td>14</td>\n      <td>2021-06-01</td>\n      <td>0</td>\n      <td>10</td>\n      <td>1</td>\n      <td>ZM</td>\n    </tr>\n    <tr>\n      <th>1</th>\n      <td>11</td>\n      <td>13</td>\n      <td>2021-05-01</td>\n      <td>0</td>\n      <td>10</td>\n      <td>1</td>\n      <td>ZM</td>\n    </tr>\n    <tr>\n      <th>2</th>\n      <td>12</td>\n      <td>14</td>\n      <td>2021-04-01</td>\n      <td>1</td>\n      <td>9</td>\n      <td>1</td>\n      <td>ZM</td>\n    </tr>\n    <tr>\n      <th>3</th>\n      <td>10</td>\n      <td>16</td>\n      <td>2021-03-01</td>\n      <td>1</td>\n      <td>9</td>\n      <td>0</td>\n      <td>ZM</td>\n    </tr>\n    <tr>\n      <th>4</th>\n      <td>10</td>\n      <td>16</td>\n      <td>2021-02-01</td>\n      <td>1</td>\n      <td>9</td>\n      <td>0</td>\n      <td>ZM</td>\n    </tr>\n  </tbody>\n</table>\n</div>"
     },
     "metadata": {},
     "execution_count": 38
    }
   ],
   "source": [
    "r = requests.get('https://finnhub.io/api/v1/stock/recommendation?symbol=ZM&token=c2si65iad3ic1qis06lg')\n",
    "print(r.json()[1])\n",
    "\n",
    "recommendation_df = pd.DataFrame(r.json())\n",
    "recommendation_df.head()"
   ]
  },
  {
   "source": [
    "# Social Sentiment\n",
    "Get social sentiment for stocks on Reddit and Twitter. This endpoint is currently in Beta.\n",
    "\n",
    "several per day"
   ],
   "cell_type": "markdown",
   "metadata": {}
  },
  {
   "cell_type": "code",
   "execution_count": 37,
   "metadata": {},
   "outputs": [
    {
     "output_type": "stream",
     "name": "stdout",
     "text": [
      "[{'atTime': '2021-06-13 22:00:00', 'mention': 1, 'positiveScore': 0, 'negativeScore': 0.980246, 'positiveMention': 0, 'negativeMention': 1, 'score': -0.980246}, {'atTime': '2021-06-13 00:00:00', 'mention': 26, 'positiveScore': 0, 'negativeScore': 0, 'positiveMention': 0, 'negativeMention': 0, 'score': 0}, {'atTime': '2021-06-12 23:00:00', 'mention': 86, 'positiveScore': 0, 'negativeScore': 0, 'positiveMention': 0, 'negativeMention': 0, 'score': 0}, {'atTime': '2021-06-12 22:00:00', 'mention': 29, 'positiveScore': 0, 'negativeScore': 0, 'positiveMention': 0, 'negativeMention': 0, 'score': 0}, {'atTime': '2021-06-12 21:00:00', 'mention': 17, 'positiveScore': 0, 'negativeScore': 0, 'positiveMention': 0, 'negativeMention': 0, 'score': 0}, {'atTime': '2021-06-11 21:00:00', 'mention': 1, 'positiveScore': 0.9996642, 'negativeScore': 0, 'positiveMention': 1, 'negativeMention': 0, 'score': 0.9996642}, {'atTime': '2021-06-11 18:00:00', 'mention': 1, 'positiveScore': 0, 'negativeScore': 0.91490155, 'positiveMention': 0, 'negativeMention': 1, 'score': -0.91490155}, {'atTime': '2021-06-11 15:00:00', 'mention': 1, 'positiveScore': 0.9936494, 'negativeScore': 0, 'positiveMention': 1, 'negativeMention': 0, 'score': 0.9936494}, {'atTime': '2021-06-10 18:00:00', 'mention': 1, 'positiveScore': 0, 'negativeScore': 0, 'positiveMention': 0, 'negativeMention': 0, 'score': 0}, {'atTime': '2021-06-10 17:00:00', 'mention': 1, 'positiveScore': 0, 'negativeScore': 0, 'positiveMention': 0, 'negativeMention': 0, 'score': 0}]\n"
     ]
    },
    {
     "output_type": "execute_result",
     "data": {
      "text/plain": [
       "                atTime  mention  positiveScore  negativeScore  \\\n",
       "0  2021-06-13 22:00:00        1            0.0       0.980246   \n",
       "1  2021-06-13 00:00:00       26            0.0       0.000000   \n",
       "2  2021-06-12 23:00:00       86            0.0       0.000000   \n",
       "3  2021-06-12 22:00:00       29            0.0       0.000000   \n",
       "4  2021-06-12 21:00:00       17            0.0       0.000000   \n",
       "\n",
       "   positiveMention  negativeMention     score  \n",
       "0                0                1 -0.980246  \n",
       "1                0                0  0.000000  \n",
       "2                0                0  0.000000  \n",
       "3                0                0  0.000000  \n",
       "4                0                0  0.000000  "
      ],
      "text/html": "<div>\n<style scoped>\n    .dataframe tbody tr th:only-of-type {\n        vertical-align: middle;\n    }\n\n    .dataframe tbody tr th {\n        vertical-align: top;\n    }\n\n    .dataframe thead th {\n        text-align: right;\n    }\n</style>\n<table border=\"1\" class=\"dataframe\">\n  <thead>\n    <tr style=\"text-align: right;\">\n      <th></th>\n      <th>atTime</th>\n      <th>mention</th>\n      <th>positiveScore</th>\n      <th>negativeScore</th>\n      <th>positiveMention</th>\n      <th>negativeMention</th>\n      <th>score</th>\n    </tr>\n  </thead>\n  <tbody>\n    <tr>\n      <th>0</th>\n      <td>2021-06-13 22:00:00</td>\n      <td>1</td>\n      <td>0.0</td>\n      <td>0.980246</td>\n      <td>0</td>\n      <td>1</td>\n      <td>-0.980246</td>\n    </tr>\n    <tr>\n      <th>1</th>\n      <td>2021-06-13 00:00:00</td>\n      <td>26</td>\n      <td>0.0</td>\n      <td>0.000000</td>\n      <td>0</td>\n      <td>0</td>\n      <td>0.000000</td>\n    </tr>\n    <tr>\n      <th>2</th>\n      <td>2021-06-12 23:00:00</td>\n      <td>86</td>\n      <td>0.0</td>\n      <td>0.000000</td>\n      <td>0</td>\n      <td>0</td>\n      <td>0.000000</td>\n    </tr>\n    <tr>\n      <th>3</th>\n      <td>2021-06-12 22:00:00</td>\n      <td>29</td>\n      <td>0.0</td>\n      <td>0.000000</td>\n      <td>0</td>\n      <td>0</td>\n      <td>0.000000</td>\n    </tr>\n    <tr>\n      <th>4</th>\n      <td>2021-06-12 21:00:00</td>\n      <td>17</td>\n      <td>0.0</td>\n      <td>0.000000</td>\n      <td>0</td>\n      <td>0</td>\n      <td>0.000000</td>\n    </tr>\n  </tbody>\n</table>\n</div>"
     },
     "metadata": {},
     "execution_count": 37
    }
   ],
   "source": [
    "r = requests.get('https://finnhub.io/api/v1/stock/social-sentiment?symbol=ZM&token=c2si65iad3ic1qis06lg&from=2021-06-01')\n",
    "print(r.json()['reddit'][0:10])\n",
    "reddit_df = pd.DataFrame(r.json()['reddit'])\n",
    "reddit_df.head()"
   ]
  },
  {
   "source": [
    "# list of companies\n",
    "\n",
    "8124\n",
    "\n",
    "description\n",
    "Symbol description\n",
    "\n",
    "displaySymbol\n",
    "Display symbol name.\n",
    "\n",
    "symbol\n",
    "Unique symbol used to identify this symbol used in /stock/candle endpoint.\n",
    "\n",
    "type\n",
    "Security type.\n"
   ],
   "cell_type": "markdown",
   "metadata": {}
  },
  {
   "cell_type": "code",
   "execution_count": 35,
   "metadata": {
    "tags": []
   },
   "outputs": [
    {
     "output_type": "stream",
     "name": "stdout",
     "text": [
      "[{'description': 'Forex.com AUD/JPY', 'displaySymbol': 'AUD/JPY', 'symbol': 'FOREX:401484303', 'type': 'FX'}, {'description': 'ZB QUN/BTC', 'displaySymbol': 'QUN/BTC', 'symbol': 'ZB:qun_btc', 'type': 'Crypto'}, {'description': 'Binance NMR/USDT', 'displaySymbol': 'NMR/USDT', 'symbol': 'BINANCE:NMRUSDT', 'type': 'Crypto'}, {'description': 'Kucoin LYM/USDT', 'displaySymbol': 'LYM/USDT', 'symbol': 'KUCOIN:LYM-USDT', 'type': 'Crypto'}, {'description': 'BITFINEX GOT/USD', 'displaySymbol': 'GOT/USD', 'symbol': 'BITFINEX:GOTUSD', 'type': 'Crypto'}, {'description': 'Huobi SALT/BTC', 'displaySymbol': 'SALT/BTC', 'symbol': 'HUOBI:saltbtc', 'type': 'Crypto'}, {'description': 'FXPIG UKOIL UKOIL', 'displaySymbol': 'UKOIL352/USD', 'symbol': 'FXPIG:352', 'type': 'Oil'}, {'description': 'BITFINEX ETP/ETH', 'displaySymbol': 'ETP/ETH', 'symbol': 'BITFINEX:ETPETH', 'type': 'Crypto'}, {'description': 'Binance TRX/PAX', 'displaySymbol': 'TRX/PAX', 'symbol': 'BINANCE:TRXPAX', 'type': 'Crypto'}, {'description': 'Kucoin BTT/TRX', 'displaySymbol': 'BTT/TRX', 'symbol': 'KUCOIN:BTT-TRX', 'type': 'Crypto'}]\n8124\n"
     ]
    }
   ],
   "source": [
    "r = requests.get('https://finnhub.io/api/v1/search?token=c2si65iad3ic1qis06lg')\n",
    "print(r.json()['result'][0:10])\n",
    "print(len(r.json()['result']))"
   ]
  }
 ]
}
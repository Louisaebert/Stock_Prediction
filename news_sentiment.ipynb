{
 "metadata": {
  "language_info": {
   "codemirror_mode": {
    "name": "ipython",
    "version": 3
   },
   "file_extension": ".py",
   "mimetype": "text/x-python",
   "name": "python",
   "nbconvert_exporter": "python",
   "pygments_lexer": "ipython3",
   "version": "3.7.10"
  },
  "orig_nbformat": 2,
  "kernelspec": {
   "name": "python3710jvsc74a57bd022a63b945ad88ad6aa60a7f3f570c70abf6faa8a03284077614716ef20649993",
   "display_name": "Python 3.7.10 64-bit ('uni': conda)"
  }
 },
 "nbformat": 4,
 "nbformat_minor": 2,
 "cells": [
  {
   "cell_type": "code",
   "execution_count": 23,
   "metadata": {},
   "outputs": [],
   "source": [
    "import numpy as np\n",
    "import pandas as pd \n",
    "import datetime\n",
    "import matplotlib.pyplot as plt\n",
    "import seaborn as sns\n",
    "import nltk \n",
    "from nltk.sentiment.vader import SentimentIntensityAnalyzer\n",
    "import requests\n",
    "from datetime import datetime\n",
    "\n",
    "import yfinance as yf"
   ]
  },
  {
   "cell_type": "code",
   "execution_count": 67,
   "metadata": {},
   "outputs": [
    {
     "output_type": "stream",
     "name": "stdout",
     "text": [
      "[*********************100%***********************]  1 of 1 completed\n"
     ]
    }
   ],
   "source": [
    "data=yf.download(tickers='ZM', period='max', interval='1d')\n",
    "data['next day adj close'] = data['Adj Close'].shift(-1)\n",
    "data.reset_index(inplace=True)"
   ]
  },
  {
   "cell_type": "code",
   "execution_count": 29,
   "metadata": {},
   "outputs": [
    {
     "output_type": "execute_result",
     "data": {
      "text/plain": [
       "        Date       Open       High        Low      Close  Adj Close    Volume  \\\n",
       "0 2019-04-18  65.000000  66.000000  60.320999  62.000000  62.000000  25764700   \n",
       "1 2019-04-22  61.000000  68.900002  59.939999  65.699997  65.699997   9949700   \n",
       "2 2019-04-23  66.870003  74.168999  65.550003  69.000000  69.000000   6786500   \n",
       "3 2019-04-24  71.400002  71.500000  63.160000  63.200001  63.200001   4973500   \n",
       "4 2019-04-25  64.739998  66.849998  62.599998  65.000000  65.000000   3863300   \n",
       "\n",
       "   next day adj close  \n",
       "0           65.699997  \n",
       "1           69.000000  \n",
       "2           63.200001  \n",
       "3           65.000000  \n",
       "4           66.220001  "
      ],
      "text/html": "<div>\n<style scoped>\n    .dataframe tbody tr th:only-of-type {\n        vertical-align: middle;\n    }\n\n    .dataframe tbody tr th {\n        vertical-align: top;\n    }\n\n    .dataframe thead th {\n        text-align: right;\n    }\n</style>\n<table border=\"1\" class=\"dataframe\">\n  <thead>\n    <tr style=\"text-align: right;\">\n      <th></th>\n      <th>Date</th>\n      <th>Open</th>\n      <th>High</th>\n      <th>Low</th>\n      <th>Close</th>\n      <th>Adj Close</th>\n      <th>Volume</th>\n      <th>next day adj close</th>\n    </tr>\n  </thead>\n  <tbody>\n    <tr>\n      <th>0</th>\n      <td>2019-04-18</td>\n      <td>65.000000</td>\n      <td>66.000000</td>\n      <td>60.320999</td>\n      <td>62.000000</td>\n      <td>62.000000</td>\n      <td>25764700</td>\n      <td>65.699997</td>\n    </tr>\n    <tr>\n      <th>1</th>\n      <td>2019-04-22</td>\n      <td>61.000000</td>\n      <td>68.900002</td>\n      <td>59.939999</td>\n      <td>65.699997</td>\n      <td>65.699997</td>\n      <td>9949700</td>\n      <td>69.000000</td>\n    </tr>\n    <tr>\n      <th>2</th>\n      <td>2019-04-23</td>\n      <td>66.870003</td>\n      <td>74.168999</td>\n      <td>65.550003</td>\n      <td>69.000000</td>\n      <td>69.000000</td>\n      <td>6786500</td>\n      <td>63.200001</td>\n    </tr>\n    <tr>\n      <th>3</th>\n      <td>2019-04-24</td>\n      <td>71.400002</td>\n      <td>71.500000</td>\n      <td>63.160000</td>\n      <td>63.200001</td>\n      <td>63.200001</td>\n      <td>4973500</td>\n      <td>65.000000</td>\n    </tr>\n    <tr>\n      <th>4</th>\n      <td>2019-04-25</td>\n      <td>64.739998</td>\n      <td>66.849998</td>\n      <td>62.599998</td>\n      <td>65.000000</td>\n      <td>65.000000</td>\n      <td>3863300</td>\n      <td>66.220001</td>\n    </tr>\n  </tbody>\n</table>\n</div>"
     },
     "metadata": {},
     "execution_count": 29
    }
   ],
   "source": [
    "data.head()"
   ]
  },
  {
   "source": [
    "# company news\n",
    "summary is not full\n",
    "\n",
    "should be grouped by date and mean sentiment"
   ],
   "cell_type": "markdown",
   "metadata": {}
  },
  {
   "cell_type": "code",
   "execution_count": 75,
   "metadata": {},
   "outputs": [],
   "source": [
    "def get_news(company, date_from='2021-06-01', date_to=None):\n",
    "    '''\n",
    "    returns dataframe with average sentiment of news headline and sentiment of news summary for every date in a given timeframe\n",
    "    company: symbol, example ZM\n",
    "    date_from: string format yyyy-mm-dd\n",
    "    date_to: string format yyyy-mm-dd\n",
    "    '''\n",
    "    sid_obj = SentimentIntensityAnalyzer()\n",
    "    if date_to is None:\n",
    "        date_to = datetime.today().strftime(\"%Y-%m-%d\")\n",
    "    URL = 'https://finnhub.io/api/v1/company-news?symbol={}&from={}&to={}&token=c2si65iad3ic1qis06lg'.format(company, date_from, date_to)\n",
    "    r = requests.get(URL)\n",
    "    news_df = pd.DataFrame(r.json())\n",
    "    news_df['datetime'] = [datetime.utcfromtimestamp(i).strftime('%Y-%m-%d') for i in news_df.datetime]\n",
    "    news_df.drop(['id','image', 'related','source', 'url'], axis=1, inplace=True)\n",
    "    news_df['headline_sentiment'] = [sid_obj.polarity_scores(c)['compound'] for c in news_df['headline']]\n",
    "    news_df['summary_sentiment'] = [sid_obj.polarity_scores(c)['compound'] for c in news_df['summary']]\n",
    "    \n",
    "    news_dates = news_df.groupby(['datetime']).mean().sort_index().reset_index()\n",
    "\n",
    "    news_dates['Date'] = pd.to_datetime(news_dates['datetime'], format='%Y-%m-%d')\n",
    "    return news_dates"
   ]
  },
  {
   "cell_type": "code",
   "execution_count": 76,
   "metadata": {},
   "outputs": [
    {
     "output_type": "execute_result",
     "data": {
      "text/plain": [
       "      datetime  headline_sentiment  summary_sentiment       Date\n",
       "0   2020-05-26            0.202300           0.848100 2020-05-26\n",
       "1   2021-04-19           -0.022191           0.046955 2021-04-19\n",
       "2   2021-04-20            0.225430           0.423340 2021-04-20\n",
       "3   2021-04-21            0.139536           0.305936 2021-04-21\n",
       "4   2021-04-22            0.092689           0.255689 2021-04-22\n",
       "..         ...                 ...                ...        ...\n",
       "57  2021-06-18            0.460917           0.315800 2021-06-18\n",
       "58  2021-06-19            0.391067           0.689467 2021-06-19\n",
       "59  2021-06-20            0.000000           0.000000 2021-06-20\n",
       "60  2021-06-21            0.090050           0.343317 2021-06-21\n",
       "61  2021-06-22           -0.027167           0.247500 2021-06-22\n",
       "\n",
       "[62 rows x 4 columns]"
      ],
      "text/html": "<div>\n<style scoped>\n    .dataframe tbody tr th:only-of-type {\n        vertical-align: middle;\n    }\n\n    .dataframe tbody tr th {\n        vertical-align: top;\n    }\n\n    .dataframe thead th {\n        text-align: right;\n    }\n</style>\n<table border=\"1\" class=\"dataframe\">\n  <thead>\n    <tr style=\"text-align: right;\">\n      <th></th>\n      <th>datetime</th>\n      <th>headline_sentiment</th>\n      <th>summary_sentiment</th>\n      <th>Date</th>\n    </tr>\n  </thead>\n  <tbody>\n    <tr>\n      <th>0</th>\n      <td>2020-05-26</td>\n      <td>0.202300</td>\n      <td>0.848100</td>\n      <td>2020-05-26</td>\n    </tr>\n    <tr>\n      <th>1</th>\n      <td>2021-04-19</td>\n      <td>-0.022191</td>\n      <td>0.046955</td>\n      <td>2021-04-19</td>\n    </tr>\n    <tr>\n      <th>2</th>\n      <td>2021-04-20</td>\n      <td>0.225430</td>\n      <td>0.423340</td>\n      <td>2021-04-20</td>\n    </tr>\n    <tr>\n      <th>3</th>\n      <td>2021-04-21</td>\n      <td>0.139536</td>\n      <td>0.305936</td>\n      <td>2021-04-21</td>\n    </tr>\n    <tr>\n      <th>4</th>\n      <td>2021-04-22</td>\n      <td>0.092689</td>\n      <td>0.255689</td>\n      <td>2021-04-22</td>\n    </tr>\n    <tr>\n      <th>...</th>\n      <td>...</td>\n      <td>...</td>\n      <td>...</td>\n      <td>...</td>\n    </tr>\n    <tr>\n      <th>57</th>\n      <td>2021-06-18</td>\n      <td>0.460917</td>\n      <td>0.315800</td>\n      <td>2021-06-18</td>\n    </tr>\n    <tr>\n      <th>58</th>\n      <td>2021-06-19</td>\n      <td>0.391067</td>\n      <td>0.689467</td>\n      <td>2021-06-19</td>\n    </tr>\n    <tr>\n      <th>59</th>\n      <td>2021-06-20</td>\n      <td>0.000000</td>\n      <td>0.000000</td>\n      <td>2021-06-20</td>\n    </tr>\n    <tr>\n      <th>60</th>\n      <td>2021-06-21</td>\n      <td>0.090050</td>\n      <td>0.343317</td>\n      <td>2021-06-21</td>\n    </tr>\n    <tr>\n      <th>61</th>\n      <td>2021-06-22</td>\n      <td>-0.027167</td>\n      <td>0.247500</td>\n      <td>2021-06-22</td>\n    </tr>\n  </tbody>\n</table>\n<p>62 rows × 4 columns</p>\n</div>"
     },
     "metadata": {},
     "execution_count": 76
    }
   ],
   "source": [
    "news_df = get_news('ZM', '2021-01-01')\n",
    "news_df"
   ]
  },
  {
   "cell_type": "code",
   "execution_count": 77,
   "metadata": {},
   "outputs": [
    {
     "output_type": "stream",
     "name": "stdout",
     "text": [
      "<class 'pandas.core.frame.DataFrame'>\nRangeIndex: 62 entries, 0 to 61\nData columns (total 4 columns):\n #   Column              Non-Null Count  Dtype         \n---  ------              --------------  -----         \n 0   datetime            62 non-null     object        \n 1   headline_sentiment  62 non-null     float64       \n 2   summary_sentiment   62 non-null     float64       \n 3   Date                62 non-null     datetime64[ns]\ndtypes: datetime64[ns](1), float64(2), object(1)\nmemory usage: 2.1+ KB\n"
     ]
    }
   ],
   "source": [
    "news_df.info()\n"
   ]
  },
  {
   "cell_type": "code",
   "execution_count": 69,
   "metadata": {},
   "outputs": [
    {
     "output_type": "stream",
     "name": "stdout",
     "text": [
      "<class 'pandas.core.frame.DataFrame'>\nRangeIndex: 549 entries, 0 to 548\nData columns (total 8 columns):\n #   Column              Non-Null Count  Dtype         \n---  ------              --------------  -----         \n 0   Date                549 non-null    datetime64[ns]\n 1   Open                549 non-null    float64       \n 2   High                549 non-null    float64       \n 3   Low                 549 non-null    float64       \n 4   Close               549 non-null    float64       \n 5   Adj Close           549 non-null    float64       \n 6   Volume              549 non-null    int64         \n 7   next day adj close  548 non-null    float64       \ndtypes: datetime64[ns](1), float64(6), int64(1)\nmemory usage: 34.4 KB\n"
     ]
    }
   ],
   "source": [
    "data.info()"
   ]
  },
  {
   "source": [
    "# Build stock + sentiment news"
   ],
   "cell_type": "markdown",
   "metadata": {}
  },
  {
   "cell_type": "code",
   "execution_count": 71,
   "metadata": {},
   "outputs": [
    {
     "output_type": "execute_result",
     "data": {
      "text/plain": [
       "        Date        Open        High         Low       Close   Adj Close  \\\n",
       "0 2020-05-26  169.100006  169.690002  163.119995  164.000000  164.000000   \n",
       "1 2021-04-19  327.519989  337.795013  320.500000  324.329987  324.329987   \n",
       "2 2021-04-20  326.730011  327.549988  316.359985  321.779999  321.779999   \n",
       "3 2021-04-21  317.010010  323.109985  313.500000  322.760010  322.760010   \n",
       "4 2021-04-22  322.665009  338.049988  322.665009  328.320007  328.320007   \n",
       "\n",
       "    Volume  next day adj close   datetime  headline_sentiment  \\\n",
       "0  6689700          161.970001 2020-05-26            0.202300   \n",
       "1  3131900          321.779999 2021-04-19           -0.022191   \n",
       "2  2282500          322.760010 2021-04-20            0.225430   \n",
       "3  1917500          328.320007 2021-04-21            0.139536   \n",
       "4  3328300          336.880005 2021-04-22            0.092689   \n",
       "\n",
       "   summary_sentiment  \n",
       "0           0.848100  \n",
       "1           0.046955  \n",
       "2           0.423340  \n",
       "3           0.305936  \n",
       "4           0.255689  "
      ],
      "text/html": "<div>\n<style scoped>\n    .dataframe tbody tr th:only-of-type {\n        vertical-align: middle;\n    }\n\n    .dataframe tbody tr th {\n        vertical-align: top;\n    }\n\n    .dataframe thead th {\n        text-align: right;\n    }\n</style>\n<table border=\"1\" class=\"dataframe\">\n  <thead>\n    <tr style=\"text-align: right;\">\n      <th></th>\n      <th>Date</th>\n      <th>Open</th>\n      <th>High</th>\n      <th>Low</th>\n      <th>Close</th>\n      <th>Adj Close</th>\n      <th>Volume</th>\n      <th>next day adj close</th>\n      <th>datetime</th>\n      <th>headline_sentiment</th>\n      <th>summary_sentiment</th>\n    </tr>\n  </thead>\n  <tbody>\n    <tr>\n      <th>0</th>\n      <td>2020-05-26</td>\n      <td>169.100006</td>\n      <td>169.690002</td>\n      <td>163.119995</td>\n      <td>164.000000</td>\n      <td>164.000000</td>\n      <td>6689700</td>\n      <td>161.970001</td>\n      <td>2020-05-26</td>\n      <td>0.202300</td>\n      <td>0.848100</td>\n    </tr>\n    <tr>\n      <th>1</th>\n      <td>2021-04-19</td>\n      <td>327.519989</td>\n      <td>337.795013</td>\n      <td>320.500000</td>\n      <td>324.329987</td>\n      <td>324.329987</td>\n      <td>3131900</td>\n      <td>321.779999</td>\n      <td>2021-04-19</td>\n      <td>-0.022191</td>\n      <td>0.046955</td>\n    </tr>\n    <tr>\n      <th>2</th>\n      <td>2021-04-20</td>\n      <td>326.730011</td>\n      <td>327.549988</td>\n      <td>316.359985</td>\n      <td>321.779999</td>\n      <td>321.779999</td>\n      <td>2282500</td>\n      <td>322.760010</td>\n      <td>2021-04-20</td>\n      <td>0.225430</td>\n      <td>0.423340</td>\n    </tr>\n    <tr>\n      <th>3</th>\n      <td>2021-04-21</td>\n      <td>317.010010</td>\n      <td>323.109985</td>\n      <td>313.500000</td>\n      <td>322.760010</td>\n      <td>322.760010</td>\n      <td>1917500</td>\n      <td>328.320007</td>\n      <td>2021-04-21</td>\n      <td>0.139536</td>\n      <td>0.305936</td>\n    </tr>\n    <tr>\n      <th>4</th>\n      <td>2021-04-22</td>\n      <td>322.665009</td>\n      <td>338.049988</td>\n      <td>322.665009</td>\n      <td>328.320007</td>\n      <td>328.320007</td>\n      <td>3328300</td>\n      <td>336.880005</td>\n      <td>2021-04-22</td>\n      <td>0.092689</td>\n      <td>0.255689</td>\n    </tr>\n  </tbody>\n</table>\n</div>"
     },
     "metadata": {},
     "execution_count": 71
    }
   ],
   "source": [
    "data = data.merge(news_df, how='inner', on='Date')#.drop(['Date','datetime'],1)\n",
    "data.head()"
   ]
  },
  {
   "source": [
    "# News Sentiment\n",
    "Get company's news sentiment and statistics. This endpoint is only available for US companies.\n",
    "\n",
    "get only one raw for the last week\n",
    "\n",
    "buzz\n",
    "Statistics of company news in the past week.\n",
    "\n",
    "articlesInLastWeek\n",
    "buzz\n",
    "weeklyAverage\n",
    "companyNewsScore\n",
    "News score.\n",
    "\n",
    "sectorAverageBullishPercent\n",
    "Sector average bullish percent.\n",
    "\n",
    "sectorAverageNewsScore\n",
    "Sectore average score.\n",
    "\n",
    "sentiment\n",
    "News sentiment.\n",
    "\n",
    "bearishPercent\n",
    "bullishPercent\n",
    "symbol\n",
    "Requested symbol."
   ],
   "cell_type": "markdown",
   "metadata": {}
  },
  {
   "cell_type": "code",
   "execution_count": 11,
   "metadata": {},
   "outputs": [
    {
     "output_type": "stream",
     "name": "stdout",
     "text": [
      "{'buzz': {'articlesInLastWeek': 50, 'buzz': 0.9708, 'weeklyAverage': 51.5}, 'companyNewsScore': 0.6739, 'sectorAverageBullishPercent': 0.6643, 'sectorAverageNewsScore': 0.5393, 'sentiment': {'bearishPercent': 0, 'bullishPercent': 1}, 'symbol': 'ZM'}\n"
     ]
    }
   ],
   "source": [
    "r = requests.get('https://finnhub.io/api/v1/news-sentiment?symbol=ZM&token=c2si65iad3ic1qis06lg')\n",
    "print(r.json())"
   ]
  },
  {
   "source": [
    "# Basic Financials\n",
    "Get company basic financials such as margin, P/E ratio, 52-week high/low etc.\n",
    "\n",
    "quarterly /  annually"
   ],
   "cell_type": "markdown",
   "metadata": {}
  },
  {
   "cell_type": "code",
   "execution_count": 20,
   "metadata": {},
   "outputs": [
    {
     "output_type": "stream",
     "name": "stdout",
     "text": [
      "{'10DayAverageTradingVolume': 4.40122, '13WeekPriceReturnDaily': 5.77673, '26WeekPriceReturnDaily': -7.71013, '3MonthAverageTradingVolume': 69.97736, '52WeekHigh': 588.84, '52WeekHighDate': '2020-10-19', '52WeekLow': 216.75, '52WeekLowDate': '2020-06-12', '52WeekPriceReturnDaily': 64.99302, '5DayPriceReturnDaily': 9.04762, 'assetTurnoverAnnual': 0.80493, 'assetTurnoverTTM': 0.82436, 'beta': None, 'bookValuePerShareAnnual': 13.15203, 'bookValuePerShareQuarterly': 14.23621, 'bookValueShareGrowth5Y': None, 'capitalSpendingGrowth5Y': None, 'cashFlowPerShareAnnual': 2.35192, 'cashFlowPerShareTTM': 3.01615, 'cashPerSharePerShareAnnual': 14.45997, 'cashPerSharePerShareQuarterly': 15.92322, 'currentDividendYieldTTM': 0, 'currentEv/freeCashFlowAnnual': 168.5417, 'currentEv/freeCashFlowTTM': 137.7837, 'currentRatioAnnual': 3.80396, 'currentRatioQuarterly': 3.49458, 'dividendGrowthRate5Y': None, 'dividendPerShare5Y': None, 'dividendPerShareAnnual': None, 'dividendYield5Y': None, 'dividendYieldIndicatedAnnual': None, 'dividendsPerShareTTM': 0, 'ebitdPerShareTTM': 2.9829, 'ebitdaCagr5Y': None, 'ebitdaInterimCagr5Y': None, 'epsBasicExclExtraItemsAnnual': 2.36575, 'epsBasicExclExtraItemsTTM': 3.02981, 'epsExclExtraItemsAnnual': 2.25248, 'epsExclExtraItemsTTM': 2.89816, 'epsGrowth3Y': None, 'epsGrowth5Y': None, 'epsGrowthQuarterlyYoy': 717.8732, 'epsGrowthTTMYoy': 1507.321, 'epsInclExtraItemsAnnual': 2.25248, 'epsInclExtraItemsTTM': 2.89816, 'epsNormalizedAnnual': 2.28508, 'focfCagr5Y': None, 'freeCashFlowAnnual': 1385.362, 'freeCashFlowPerShareTTM': 5.28122, 'freeCashFlowTTM': 1588.059, 'freeOperatingCashFlow/revenue5Y': None, 'freeOperatingCashFlow/revenueTTM': 48.42473, 'grossMargin5Y': None, 'grossMarginAnnual': 68.99755, 'grossMarginTTM': 70.01694, 'inventoryTurnoverAnnual': None, 'inventoryTurnoverTTM': None, 'longTermDebt/equityAnnual': 0, 'longTermDebt/equityQuarterly': 0, 'marketCapitalization': 107958.2, 'monthToDatePriceReturnDaily': 10.5179, 'netDebtAnnual': -4244.713, 'netDebtInterim': -4689.579, 'netIncomeEmployeeAnnual': 193360.9, 'netIncomeEmployeeTTM': 197370.4, 'netInterestCoverageAnnual': None, 'netInterestCoverageTTM': None, 'netMarginGrowth5Y': None, 'netProfitMargin5Y': None, 'netProfitMarginAnnual': 25.35732, 'netProfitMarginTTM': 26.61346, 'operatingMargin5Y': None, 'operatingMarginAnnual': 24.88708, 'operatingMarginTTM': 26.30862, 'payoutRatioAnnual': 0, 'payoutRatioTTM': 0, 'pbAnnual': 27.85883, 'pbQuarterly': 25.73719, 'pcfShareTTM': 119.034, 'peBasicExclExtraTTM': 105.4753, 'peExclExtraAnnual': 162.6651, 'peExclExtraHighTTM': None, 'peExclExtraTTM': 126.425, 'peExclLowTTM': None, 'peInclExtraTTM': 126.425, 'peNormalizedAnnual': 160.3445, 'pfcfShareAnnual': 77.9278, 'pfcfShareTTM': 67.98124, 'pretaxMargin5Y': None, 'pretaxMarginAnnual': 25.57299, 'pretaxMarginTTM': 26.76648, 'priceRelativeToS&P50013Week': -1.79647, 'priceRelativeToS&P50026Week': -20.39906, 'priceRelativeToS&P5004Week': 16.94172, 'priceRelativeToS&P50052Week': 16.61743, 'priceRelativeToS&P500Ytd': -3.94504, 'psAnnual': 40.71793, 'psTTM': 32.91973, 'ptbvAnnual': 28.1403, 'ptbvQuarterly': 25.96561, 'quickRatioAnnual': None, 'quickRatioQuarterly': None, 'receivablesTurnoverAnnual': 12.77343, 'receivablesTurnoverTTM': 10.51341, 'revenueEmployeeAnnual': 762544.8, 'revenueEmployeeTTM': 741618.8, 'revenueGrowth3Y': 159.6409, 'revenueGrowth5Y': None, 'revenueGrowthQuarterlyYoy': 191.3873, 'revenueGrowthTTMYoy': 295.6674, 'revenuePerShareAnnual': 8.8934, 'revenuePerShareTTM': 10.90605, 'revenueShareGrowth5Y': None, 'roaRfy': 20.41082, 'roaa5Y': None, 'roae5Y': None, 'roaeTTM': 34.22971, 'roeRfy': 28.60782, 'roeTTM': 21.93909, 'roi5Y': None, 'roiAnnual': 26.92472, 'roiTTM': 32.35931, 'tangibleBookValuePerShareAnnual': 13.06911, 'tangibleBookValuePerShareQuarterly': 14.11738, 'tbvCagr5Y': None, 'totalDebt/totalEquityAnnual': 0, 'totalDebt/totalEquityQuarterly': 0, 'totalDebtCagr5Y': None, 'yearToDatePriceReturnDaily': 8.62089}\n{'cashRatio': [{'period': '2020-01-31', 'v': 0.8481382739717821}, {'period': '2019-01-31', 'v': 0.4176420005120092}, {'period': '2018-01-31', 'v': 0.5274555297757154}], 'currentRatio': [{'period': '2020-01-31', 'v': 3.2817}, {'period': '2019-01-31', 'v': 1.8164}, {'period': '2018-01-31', 'v': 2.6728}], 'ebitPerShare': [{'period': '2020-01-31', 'v': 0.0499}, {'period': '2019-01-31', 'v': 0.0241}, {'period': '2018-01-31', 'v': -0.0189}, {'period': '2017-01-31', 'v': 0}], 'eps': [{'period': '2020-01-31', 'v': 0.0995}, {'period': '2019-01-31', 'v': 0.0296}, {'period': '2018-01-31', 'v': -0.0149}, {'period': '2017-01-31', 'v': -0.0001}], 'grossMargin': [{'period': '2020-01-31', 'v': 0.8147}, {'period': '2019-01-31', 'v': 0.8154}, {'period': '2018-01-31', 'v': 0.7968}, {'period': '2017-01-31', 'v': 0.7949}], 'longtermDebtTotalAsset': [{'period': '2020-01-31', 'v': 0}, {'period': '2019-01-31', 'v': 0.0419}, {'period': '2018-01-31', 'v': 0}], 'longtermDebtTotalCapital': [{'period': '2020-01-31', 'v': 0}, {'period': '2019-01-31', 'v': 0.089}, {'period': '2018-01-31', 'v': 0}], 'longtermDebtTotalEquity': [{'period': '2020-01-31', 'v': 0}, {'period': '2019-01-31', 'v': 0.0977}, {'period': '2018-01-31', 'v': 0}], 'netDebtToTotalCapital': [{'period': '2020-01-31', 'v': -0.3395}, {'period': '2019-01-31', 'v': -0.2921}, {'period': '2018-01-31', 'v': -0.272}], 'netDebtToTotalEquity': [{'period': '2020-01-31', 'v': -0.3395}, {'period': '2019-01-31', 'v': -0.3206}, {'period': '2018-01-31', 'v': -0.272}], 'netMargin': [{'period': '2020-01-31', 'v': 0.0406}, {'period': '2019-01-31', 'v': 0.0229}, {'period': '2018-01-31', 'v': -0.0252}, {'period': '2017-01-31', 'v': -0.0002}], 'operatingMargin': [{'period': '2020-01-31', 'v': 0.0204}, {'period': '2019-01-31', 'v': 0.0187}, {'period': '2018-01-31', 'v': -0.0319}, {'period': '2017-01-31', 'v': 0}], 'pretaxMargin': [{'period': '2020-01-31', 'v': 0.0423}, {'period': '2019-01-31', 'v': 0.0253}, {'period': '2018-01-31', 'v': -0.0232}, {'period': '2017-01-31', 'v': 0.0026}], 'salesPerShare': [{'period': '2020-01-31', 'v': 2.4485}, {'period': '2019-01-31', 'v': 1.2891}, {'period': '2018-01-31', 'v': 0.5908}, {'period': '2017-01-31', 'v': 0.2372}], 'sgaToSale': [{'period': '2020-01-31', 'v': 0.1853}, {'period': '2019-01-31', 'v': 0.1846}, {'period': '2018-01-31', 'v': 0.2032}, {'period': '2017-01-31', 'v': 0.2051}], 'totalDebtToEquity': [{'period': '2020-01-31', 'v': 0}, {'period': '2019-01-31', 'v': 0.0977}, {'period': '2018-01-31', 'v': 0}], 'totalDebtToTotalAsset': [{'period': '2020-01-31', 'v': 0}, {'period': '2019-01-31', 'v': 0.0419}, {'period': '2018-01-31', 'v': 0}], 'totalDebtToTotalCapital': [{'period': '2020-01-31', 'v': 0}, {'period': '2019-01-31', 'v': 0.089}, {'period': '2018-01-31', 'v': 0}], 'totalRatio': [{'period': '2020-01-31', 'v': 2.8292}, {'period': '2019-01-31', 'v': 1.7514}, {'period': '2018-01-31', 'v': 2.6178}]}\n"
     ]
    }
   ],
   "source": [
    "r = requests.get('https://finnhub.io/api/v1/stock/metric?symbol=ZM&metric=all&token=c2si65iad3ic1qis06lg')\n",
    "print(r.json()['metric'])\n",
    "print(r.json()['series']['annual'])"
   ]
  },
  {
   "source": [
    "# Recommendation Trends\n",
    "Get latest analyst recommendation trends for a company.\n",
    "\n",
    "per month\n",
    "\n",
    "symbol\n",
    "Company symbol.\n",
    "\n",
    "buy\n",
    "Number of recommendations that fall into the Buy category\n",
    "\n",
    "hold\n",
    "Number of recommendations that fall into the Hold category\n",
    "\n",
    "period\n",
    "Updated period\n",
    "\n",
    "sell\n",
    "Number of recommendations that fall into the Sell category\n",
    "\n",
    "strongBuy\n",
    "Number of recommendations that fall into the Strong Buy category\n",
    "\n",
    "strongSell\n",
    "Number of recommendations that fall into the Strong Sell category\n"
   ],
   "cell_type": "markdown",
   "metadata": {}
  },
  {
   "cell_type": "code",
   "execution_count": 84,
   "metadata": {},
   "outputs": [],
   "source": [
    "def get_recommendation_trends(company):\n",
    "    r = requests.get('https://finnhub.io/api/v1/stock/recommendation?symbol=ZM&token=c2si65iad3ic1qis06lg')\n",
    "    recommendation_df = pd.DataFrame(r.json())\n",
    "    dfs = []\n",
    "    for i, month in recommendation_df.period.iteritems():\n",
    "        period = month\n",
    "        df_month = pd.DataFrame({\n",
    "        'period': pd.date_range(\n",
    "            start = pd.Timestamp(period),                        \n",
    "            end = pd.Timestamp(period) + pd.offsets.MonthEnd(0),  # <-- 2018-08-31 with MonthEnd\n",
    "            freq = 'D'\n",
    "            )\n",
    "        })\n",
    "        df_month['month'] = month\n",
    "        dfs.append(df_month)\n",
    "    df = pd.concat(dfs)\n",
    "    df.period = [datetime.strftime(x, '%Y-%m-%d') for x in df.period]\n",
    "    df = df.merge(recommendation_df,how='left', left_on='month', right_on='period')\n",
    "    df.drop(['month','period_y'], axis=1, inplace=True)\n",
    "    df['Date'] = pd.to_datetime(df['period_x'], format='%Y-%m-%d')\n",
    "    return df.drop(['period_x'],1)"
   ]
  },
  {
   "cell_type": "code",
   "execution_count": 85,
   "metadata": {},
   "outputs": [
    {
     "output_type": "execute_result",
     "data": {
      "text/plain": [
       "     buy  hold  sell  strongBuy  strongSell symbol       Date\n",
       "0      9    14     0         10           1     ZM 2021-06-01\n",
       "1      9    14     0         10           1     ZM 2021-06-02\n",
       "2      9    14     0         10           1     ZM 2021-06-03\n",
       "3      9    14     0         10           1     ZM 2021-06-04\n",
       "4      9    14     0         10           1     ZM 2021-06-05\n",
       "..   ...   ...   ...        ...         ...    ...        ...\n",
       "787    0     3     4          1           3     ZM 2019-05-27\n",
       "788    0     3     4          1           3     ZM 2019-05-28\n",
       "789    0     3     4          1           3     ZM 2019-05-29\n",
       "790    0     3     4          1           3     ZM 2019-05-30\n",
       "791    0     3     4          1           3     ZM 2019-05-31\n",
       "\n",
       "[792 rows x 7 columns]"
      ],
      "text/html": "<div>\n<style scoped>\n    .dataframe tbody tr th:only-of-type {\n        vertical-align: middle;\n    }\n\n    .dataframe tbody tr th {\n        vertical-align: top;\n    }\n\n    .dataframe thead th {\n        text-align: right;\n    }\n</style>\n<table border=\"1\" class=\"dataframe\">\n  <thead>\n    <tr style=\"text-align: right;\">\n      <th></th>\n      <th>buy</th>\n      <th>hold</th>\n      <th>sell</th>\n      <th>strongBuy</th>\n      <th>strongSell</th>\n      <th>symbol</th>\n      <th>Date</th>\n    </tr>\n  </thead>\n  <tbody>\n    <tr>\n      <th>0</th>\n      <td>9</td>\n      <td>14</td>\n      <td>0</td>\n      <td>10</td>\n      <td>1</td>\n      <td>ZM</td>\n      <td>2021-06-01</td>\n    </tr>\n    <tr>\n      <th>1</th>\n      <td>9</td>\n      <td>14</td>\n      <td>0</td>\n      <td>10</td>\n      <td>1</td>\n      <td>ZM</td>\n      <td>2021-06-02</td>\n    </tr>\n    <tr>\n      <th>2</th>\n      <td>9</td>\n      <td>14</td>\n      <td>0</td>\n      <td>10</td>\n      <td>1</td>\n      <td>ZM</td>\n      <td>2021-06-03</td>\n    </tr>\n    <tr>\n      <th>3</th>\n      <td>9</td>\n      <td>14</td>\n      <td>0</td>\n      <td>10</td>\n      <td>1</td>\n      <td>ZM</td>\n      <td>2021-06-04</td>\n    </tr>\n    <tr>\n      <th>4</th>\n      <td>9</td>\n      <td>14</td>\n      <td>0</td>\n      <td>10</td>\n      <td>1</td>\n      <td>ZM</td>\n      <td>2021-06-05</td>\n    </tr>\n    <tr>\n      <th>...</th>\n      <td>...</td>\n      <td>...</td>\n      <td>...</td>\n      <td>...</td>\n      <td>...</td>\n      <td>...</td>\n      <td>...</td>\n    </tr>\n    <tr>\n      <th>787</th>\n      <td>0</td>\n      <td>3</td>\n      <td>4</td>\n      <td>1</td>\n      <td>3</td>\n      <td>ZM</td>\n      <td>2019-05-27</td>\n    </tr>\n    <tr>\n      <th>788</th>\n      <td>0</td>\n      <td>3</td>\n      <td>4</td>\n      <td>1</td>\n      <td>3</td>\n      <td>ZM</td>\n      <td>2019-05-28</td>\n    </tr>\n    <tr>\n      <th>789</th>\n      <td>0</td>\n      <td>3</td>\n      <td>4</td>\n      <td>1</td>\n      <td>3</td>\n      <td>ZM</td>\n      <td>2019-05-29</td>\n    </tr>\n    <tr>\n      <th>790</th>\n      <td>0</td>\n      <td>3</td>\n      <td>4</td>\n      <td>1</td>\n      <td>3</td>\n      <td>ZM</td>\n      <td>2019-05-30</td>\n    </tr>\n    <tr>\n      <th>791</th>\n      <td>0</td>\n      <td>3</td>\n      <td>4</td>\n      <td>1</td>\n      <td>3</td>\n      <td>ZM</td>\n      <td>2019-05-31</td>\n    </tr>\n  </tbody>\n</table>\n<p>792 rows × 7 columns</p>\n</div>"
     },
     "metadata": {},
     "execution_count": 85
    }
   ],
   "source": [
    "trend_df = get_recommendation_trends('ZM')\n",
    "trend_df"
   ]
  },
  {
   "cell_type": "code",
   "execution_count": 86,
   "metadata": {},
   "outputs": [
    {
     "output_type": "stream",
     "name": "stdout",
     "text": [
      "<class 'pandas.core.frame.DataFrame'>\nInt64Index: 792 entries, 0 to 791\nData columns (total 7 columns):\n #   Column      Non-Null Count  Dtype         \n---  ------      --------------  -----         \n 0   buy         792 non-null    int64         \n 1   hold        792 non-null    int64         \n 2   sell        792 non-null    int64         \n 3   strongBuy   792 non-null    int64         \n 4   strongSell  792 non-null    int64         \n 5   symbol      792 non-null    object        \n 6   Date        792 non-null    datetime64[ns]\ndtypes: datetime64[ns](1), int64(5), object(1)\nmemory usage: 49.5+ KB\n"
     ]
    }
   ],
   "source": [
    "trend_df.info()"
   ]
  },
  {
   "source": [
    "# build stock + news sentiment + recommendation"
   ],
   "cell_type": "markdown",
   "metadata": {}
  },
  {
   "cell_type": "code",
   "execution_count": 87,
   "metadata": {},
   "outputs": [
    {
     "output_type": "execute_result",
     "data": {
      "text/plain": [
       "        Date        Open        High         Low       Close   Adj Close  \\\n",
       "0 2020-05-26  169.100006  169.690002  163.119995  164.000000  164.000000   \n",
       "1 2021-04-19  327.519989  337.795013  320.500000  324.329987  324.329987   \n",
       "2 2021-04-20  326.730011  327.549988  316.359985  321.779999  321.779999   \n",
       "3 2021-04-21  317.010010  323.109985  313.500000  322.760010  322.760010   \n",
       "4 2021-04-22  322.665009  338.049988  322.665009  328.320007  328.320007   \n",
       "\n",
       "    Volume  next day adj close   datetime  headline_sentiment  \\\n",
       "0  6689700          161.970001 2020-05-26            0.202300   \n",
       "1  3131900          321.779999 2021-04-19           -0.022191   \n",
       "2  2282500          322.760010 2021-04-20            0.225430   \n",
       "3  1917500          328.320007 2021-04-21            0.139536   \n",
       "4  3328300          336.880005 2021-04-22            0.092689   \n",
       "\n",
       "   summary_sentiment  buy  hold  sell  strongBuy  strongSell symbol  \n",
       "0           0.848100    8    15     4          8           0     ZM  \n",
       "1           0.046955   12    14     1          9           1     ZM  \n",
       "2           0.423340   12    14     1          9           1     ZM  \n",
       "3           0.305936   12    14     1          9           1     ZM  \n",
       "4           0.255689   12    14     1          9           1     ZM  "
      ],
      "text/html": "<div>\n<style scoped>\n    .dataframe tbody tr th:only-of-type {\n        vertical-align: middle;\n    }\n\n    .dataframe tbody tr th {\n        vertical-align: top;\n    }\n\n    .dataframe thead th {\n        text-align: right;\n    }\n</style>\n<table border=\"1\" class=\"dataframe\">\n  <thead>\n    <tr style=\"text-align: right;\">\n      <th></th>\n      <th>Date</th>\n      <th>Open</th>\n      <th>High</th>\n      <th>Low</th>\n      <th>Close</th>\n      <th>Adj Close</th>\n      <th>Volume</th>\n      <th>next day adj close</th>\n      <th>datetime</th>\n      <th>headline_sentiment</th>\n      <th>summary_sentiment</th>\n      <th>buy</th>\n      <th>hold</th>\n      <th>sell</th>\n      <th>strongBuy</th>\n      <th>strongSell</th>\n      <th>symbol</th>\n    </tr>\n  </thead>\n  <tbody>\n    <tr>\n      <th>0</th>\n      <td>2020-05-26</td>\n      <td>169.100006</td>\n      <td>169.690002</td>\n      <td>163.119995</td>\n      <td>164.000000</td>\n      <td>164.000000</td>\n      <td>6689700</td>\n      <td>161.970001</td>\n      <td>2020-05-26</td>\n      <td>0.202300</td>\n      <td>0.848100</td>\n      <td>8</td>\n      <td>15</td>\n      <td>4</td>\n      <td>8</td>\n      <td>0</td>\n      <td>ZM</td>\n    </tr>\n    <tr>\n      <th>1</th>\n      <td>2021-04-19</td>\n      <td>327.519989</td>\n      <td>337.795013</td>\n      <td>320.500000</td>\n      <td>324.329987</td>\n      <td>324.329987</td>\n      <td>3131900</td>\n      <td>321.779999</td>\n      <td>2021-04-19</td>\n      <td>-0.022191</td>\n      <td>0.046955</td>\n      <td>12</td>\n      <td>14</td>\n      <td>1</td>\n      <td>9</td>\n      <td>1</td>\n      <td>ZM</td>\n    </tr>\n    <tr>\n      <th>2</th>\n      <td>2021-04-20</td>\n      <td>326.730011</td>\n      <td>327.549988</td>\n      <td>316.359985</td>\n      <td>321.779999</td>\n      <td>321.779999</td>\n      <td>2282500</td>\n      <td>322.760010</td>\n      <td>2021-04-20</td>\n      <td>0.225430</td>\n      <td>0.423340</td>\n      <td>12</td>\n      <td>14</td>\n      <td>1</td>\n      <td>9</td>\n      <td>1</td>\n      <td>ZM</td>\n    </tr>\n    <tr>\n      <th>3</th>\n      <td>2021-04-21</td>\n      <td>317.010010</td>\n      <td>323.109985</td>\n      <td>313.500000</td>\n      <td>322.760010</td>\n      <td>322.760010</td>\n      <td>1917500</td>\n      <td>328.320007</td>\n      <td>2021-04-21</td>\n      <td>0.139536</td>\n      <td>0.305936</td>\n      <td>12</td>\n      <td>14</td>\n      <td>1</td>\n      <td>9</td>\n      <td>1</td>\n      <td>ZM</td>\n    </tr>\n    <tr>\n      <th>4</th>\n      <td>2021-04-22</td>\n      <td>322.665009</td>\n      <td>338.049988</td>\n      <td>322.665009</td>\n      <td>328.320007</td>\n      <td>328.320007</td>\n      <td>3328300</td>\n      <td>336.880005</td>\n      <td>2021-04-22</td>\n      <td>0.092689</td>\n      <td>0.255689</td>\n      <td>12</td>\n      <td>14</td>\n      <td>1</td>\n      <td>9</td>\n      <td>1</td>\n      <td>ZM</td>\n    </tr>\n  </tbody>\n</table>\n</div>"
     },
     "metadata": {},
     "execution_count": 87
    }
   ],
   "source": [
    "data = data.merge(trend_df, how='inner', on='Date')#.drop(['Date','datetime'],1)\n",
    "data.head()"
   ]
  },
  {
   "source": [
    "# Social Sentiment\n",
    "Get social sentiment for stocks on Reddit and Twitter. This endpoint is currently in Beta.\n",
    "\n",
    "several per day"
   ],
   "cell_type": "markdown",
   "metadata": {}
  },
  {
   "cell_type": "code",
   "execution_count": 37,
   "metadata": {},
   "outputs": [
    {
     "output_type": "stream",
     "name": "stdout",
     "text": [
      "[{'atTime': '2021-06-13 22:00:00', 'mention': 1, 'positiveScore': 0, 'negativeScore': 0.980246, 'positiveMention': 0, 'negativeMention': 1, 'score': -0.980246}, {'atTime': '2021-06-13 00:00:00', 'mention': 26, 'positiveScore': 0, 'negativeScore': 0, 'positiveMention': 0, 'negativeMention': 0, 'score': 0}, {'atTime': '2021-06-12 23:00:00', 'mention': 86, 'positiveScore': 0, 'negativeScore': 0, 'positiveMention': 0, 'negativeMention': 0, 'score': 0}, {'atTime': '2021-06-12 22:00:00', 'mention': 29, 'positiveScore': 0, 'negativeScore': 0, 'positiveMention': 0, 'negativeMention': 0, 'score': 0}, {'atTime': '2021-06-12 21:00:00', 'mention': 17, 'positiveScore': 0, 'negativeScore': 0, 'positiveMention': 0, 'negativeMention': 0, 'score': 0}, {'atTime': '2021-06-11 21:00:00', 'mention': 1, 'positiveScore': 0.9996642, 'negativeScore': 0, 'positiveMention': 1, 'negativeMention': 0, 'score': 0.9996642}, {'atTime': '2021-06-11 18:00:00', 'mention': 1, 'positiveScore': 0, 'negativeScore': 0.91490155, 'positiveMention': 0, 'negativeMention': 1, 'score': -0.91490155}, {'atTime': '2021-06-11 15:00:00', 'mention': 1, 'positiveScore': 0.9936494, 'negativeScore': 0, 'positiveMention': 1, 'negativeMention': 0, 'score': 0.9936494}, {'atTime': '2021-06-10 18:00:00', 'mention': 1, 'positiveScore': 0, 'negativeScore': 0, 'positiveMention': 0, 'negativeMention': 0, 'score': 0}, {'atTime': '2021-06-10 17:00:00', 'mention': 1, 'positiveScore': 0, 'negativeScore': 0, 'positiveMention': 0, 'negativeMention': 0, 'score': 0}]\n"
     ]
    },
    {
     "output_type": "execute_result",
     "data": {
      "text/plain": [
       "                atTime  mention  positiveScore  negativeScore  \\\n",
       "0  2021-06-13 22:00:00        1            0.0       0.980246   \n",
       "1  2021-06-13 00:00:00       26            0.0       0.000000   \n",
       "2  2021-06-12 23:00:00       86            0.0       0.000000   \n",
       "3  2021-06-12 22:00:00       29            0.0       0.000000   \n",
       "4  2021-06-12 21:00:00       17            0.0       0.000000   \n",
       "\n",
       "   positiveMention  negativeMention     score  \n",
       "0                0                1 -0.980246  \n",
       "1                0                0  0.000000  \n",
       "2                0                0  0.000000  \n",
       "3                0                0  0.000000  \n",
       "4                0                0  0.000000  "
      ],
      "text/html": "<div>\n<style scoped>\n    .dataframe tbody tr th:only-of-type {\n        vertical-align: middle;\n    }\n\n    .dataframe tbody tr th {\n        vertical-align: top;\n    }\n\n    .dataframe thead th {\n        text-align: right;\n    }\n</style>\n<table border=\"1\" class=\"dataframe\">\n  <thead>\n    <tr style=\"text-align: right;\">\n      <th></th>\n      <th>atTime</th>\n      <th>mention</th>\n      <th>positiveScore</th>\n      <th>negativeScore</th>\n      <th>positiveMention</th>\n      <th>negativeMention</th>\n      <th>score</th>\n    </tr>\n  </thead>\n  <tbody>\n    <tr>\n      <th>0</th>\n      <td>2021-06-13 22:00:00</td>\n      <td>1</td>\n      <td>0.0</td>\n      <td>0.980246</td>\n      <td>0</td>\n      <td>1</td>\n      <td>-0.980246</td>\n    </tr>\n    <tr>\n      <th>1</th>\n      <td>2021-06-13 00:00:00</td>\n      <td>26</td>\n      <td>0.0</td>\n      <td>0.000000</td>\n      <td>0</td>\n      <td>0</td>\n      <td>0.000000</td>\n    </tr>\n    <tr>\n      <th>2</th>\n      <td>2021-06-12 23:00:00</td>\n      <td>86</td>\n      <td>0.0</td>\n      <td>0.000000</td>\n      <td>0</td>\n      <td>0</td>\n      <td>0.000000</td>\n    </tr>\n    <tr>\n      <th>3</th>\n      <td>2021-06-12 22:00:00</td>\n      <td>29</td>\n      <td>0.0</td>\n      <td>0.000000</td>\n      <td>0</td>\n      <td>0</td>\n      <td>0.000000</td>\n    </tr>\n    <tr>\n      <th>4</th>\n      <td>2021-06-12 21:00:00</td>\n      <td>17</td>\n      <td>0.0</td>\n      <td>0.000000</td>\n      <td>0</td>\n      <td>0</td>\n      <td>0.000000</td>\n    </tr>\n  </tbody>\n</table>\n</div>"
     },
     "metadata": {},
     "execution_count": 37
    }
   ],
   "source": [
    "r = requests.get('https://finnhub.io/api/v1/stock/social-sentiment?symbol=ZM&token=c2si65iad3ic1qis06lg&from=2021-06-01')\n",
    "print(r.json()['reddit'][0:10])\n",
    "reddit_df = pd.DataFrame(r.json()['reddit'])\n",
    "reddit_df.head()"
   ]
  },
  {
   "source": [
    "# list of companies\n",
    "\n",
    "8124\n",
    "\n",
    "description\n",
    "Symbol description\n",
    "\n",
    "displaySymbol\n",
    "Display symbol name.\n",
    "\n",
    "symbol\n",
    "Unique symbol used to identify this symbol used in /stock/candle endpoint.\n",
    "\n",
    "type\n",
    "Security type.\n"
   ],
   "cell_type": "markdown",
   "metadata": {}
  },
  {
   "cell_type": "code",
   "execution_count": 35,
   "metadata": {
    "tags": []
   },
   "outputs": [
    {
     "output_type": "stream",
     "name": "stdout",
     "text": [
      "[{'description': 'Forex.com AUD/JPY', 'displaySymbol': 'AUD/JPY', 'symbol': 'FOREX:401484303', 'type': 'FX'}, {'description': 'ZB QUN/BTC', 'displaySymbol': 'QUN/BTC', 'symbol': 'ZB:qun_btc', 'type': 'Crypto'}, {'description': 'Binance NMR/USDT', 'displaySymbol': 'NMR/USDT', 'symbol': 'BINANCE:NMRUSDT', 'type': 'Crypto'}, {'description': 'Kucoin LYM/USDT', 'displaySymbol': 'LYM/USDT', 'symbol': 'KUCOIN:LYM-USDT', 'type': 'Crypto'}, {'description': 'BITFINEX GOT/USD', 'displaySymbol': 'GOT/USD', 'symbol': 'BITFINEX:GOTUSD', 'type': 'Crypto'}, {'description': 'Huobi SALT/BTC', 'displaySymbol': 'SALT/BTC', 'symbol': 'HUOBI:saltbtc', 'type': 'Crypto'}, {'description': 'FXPIG UKOIL UKOIL', 'displaySymbol': 'UKOIL352/USD', 'symbol': 'FXPIG:352', 'type': 'Oil'}, {'description': 'BITFINEX ETP/ETH', 'displaySymbol': 'ETP/ETH', 'symbol': 'BITFINEX:ETPETH', 'type': 'Crypto'}, {'description': 'Binance TRX/PAX', 'displaySymbol': 'TRX/PAX', 'symbol': 'BINANCE:TRXPAX', 'type': 'Crypto'}, {'description': 'Kucoin BTT/TRX', 'displaySymbol': 'BTT/TRX', 'symbol': 'KUCOIN:BTT-TRX', 'type': 'Crypto'}]\n8124\n"
     ]
    }
   ],
   "source": [
    "r = requests.get('https://finnhub.io/api/v1/search?token=c2si65iad3ic1qis06lg')\n",
    "print(r.json()['result'][0:10])\n",
    "print(len(r.json()['result']))"
   ]
  }
 ]
}